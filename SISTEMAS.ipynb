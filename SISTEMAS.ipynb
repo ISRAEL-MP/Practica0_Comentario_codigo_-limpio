{
  "nbformat": 4,
  "nbformat_minor": 0,
  "metadata": {
    "colab": {
      "provenance": [],
      "authorship_tag": "ABX9TyMyo1YZHik6NdxDj6ibfcpS",
      "include_colab_link": true
    },
    "kernelspec": {
      "name": "python3",
      "display_name": "Python 3"
    },
    "language_info": {
      "name": "python"
    },
    "accelerator": "TPU",
    "gpuClass": "standard"
  },
  "cells": [
    {
      "cell_type": "markdown",
      "metadata": {
        "id": "view-in-github",
        "colab_type": "text"
      },
      "source": [
        "<a href=\"https://colab.research.google.com/github/ISRAEL-MP/Practica0_Comentario_codigo_-limpio/blob/main/SISTEMAS.ipynb\" target=\"_parent\"><img src=\"https://colab.research.google.com/assets/colab-badge.svg\" alt=\"Open In Colab\"/></a>"
      ]
    },
    {
      "cell_type": "code",
      "execution_count": 39,
      "metadata": {
        "colab": {
          "base_uri": "https://localhost:8080/",
          "height": 91
        },
        "id": "He0H1qFaB6no",
        "outputId": "ee081625-a40d-49e6-93bc-c4f162f765a7"
      },
      "outputs": [
        {
          "output_type": "display_data",
          "data": {
            "text/plain": [
              "<IPython.core.display.HTML object>"
            ],
            "text/html": [
              "\n",
              "     <input type=\"file\" id=\"files-bf581e26-51dd-41bf-89be-4e59b031c7c7\" name=\"files[]\" multiple disabled\n",
              "        style=\"border:none\" />\n",
              "     <output id=\"result-bf581e26-51dd-41bf-89be-4e59b031c7c7\">\n",
              "      Upload widget is only available when the cell has been executed in the\n",
              "      current browser session. Please rerun this cell to enable.\n",
              "      </output>\n",
              "      <script>// Copyright 2017 Google LLC\n",
              "//\n",
              "// Licensed under the Apache License, Version 2.0 (the \"License\");\n",
              "// you may not use this file except in compliance with the License.\n",
              "// You may obtain a copy of the License at\n",
              "//\n",
              "//      http://www.apache.org/licenses/LICENSE-2.0\n",
              "//\n",
              "// Unless required by applicable law or agreed to in writing, software\n",
              "// distributed under the License is distributed on an \"AS IS\" BASIS,\n",
              "// WITHOUT WARRANTIES OR CONDITIONS OF ANY KIND, either express or implied.\n",
              "// See the License for the specific language governing permissions and\n",
              "// limitations under the License.\n",
              "\n",
              "/**\n",
              " * @fileoverview Helpers for google.colab Python module.\n",
              " */\n",
              "(function(scope) {\n",
              "function span(text, styleAttributes = {}) {\n",
              "  const element = document.createElement('span');\n",
              "  element.textContent = text;\n",
              "  for (const key of Object.keys(styleAttributes)) {\n",
              "    element.style[key] = styleAttributes[key];\n",
              "  }\n",
              "  return element;\n",
              "}\n",
              "\n",
              "// Max number of bytes which will be uploaded at a time.\n",
              "const MAX_PAYLOAD_SIZE = 100 * 1024;\n",
              "\n",
              "function _uploadFiles(inputId, outputId) {\n",
              "  const steps = uploadFilesStep(inputId, outputId);\n",
              "  const outputElement = document.getElementById(outputId);\n",
              "  // Cache steps on the outputElement to make it available for the next call\n",
              "  // to uploadFilesContinue from Python.\n",
              "  outputElement.steps = steps;\n",
              "\n",
              "  return _uploadFilesContinue(outputId);\n",
              "}\n",
              "\n",
              "// This is roughly an async generator (not supported in the browser yet),\n",
              "// where there are multiple asynchronous steps and the Python side is going\n",
              "// to poll for completion of each step.\n",
              "// This uses a Promise to block the python side on completion of each step,\n",
              "// then passes the result of the previous step as the input to the next step.\n",
              "function _uploadFilesContinue(outputId) {\n",
              "  const outputElement = document.getElementById(outputId);\n",
              "  const steps = outputElement.steps;\n",
              "\n",
              "  const next = steps.next(outputElement.lastPromiseValue);\n",
              "  return Promise.resolve(next.value.promise).then((value) => {\n",
              "    // Cache the last promise value to make it available to the next\n",
              "    // step of the generator.\n",
              "    outputElement.lastPromiseValue = value;\n",
              "    return next.value.response;\n",
              "  });\n",
              "}\n",
              "\n",
              "/**\n",
              " * Generator function which is called between each async step of the upload\n",
              " * process.\n",
              " * @param {string} inputId Element ID of the input file picker element.\n",
              " * @param {string} outputId Element ID of the output display.\n",
              " * @return {!Iterable<!Object>} Iterable of next steps.\n",
              " */\n",
              "function* uploadFilesStep(inputId, outputId) {\n",
              "  const inputElement = document.getElementById(inputId);\n",
              "  inputElement.disabled = false;\n",
              "\n",
              "  const outputElement = document.getElementById(outputId);\n",
              "  outputElement.innerHTML = '';\n",
              "\n",
              "  const pickedPromise = new Promise((resolve) => {\n",
              "    inputElement.addEventListener('change', (e) => {\n",
              "      resolve(e.target.files);\n",
              "    });\n",
              "  });\n",
              "\n",
              "  const cancel = document.createElement('button');\n",
              "  inputElement.parentElement.appendChild(cancel);\n",
              "  cancel.textContent = 'Cancel upload';\n",
              "  const cancelPromise = new Promise((resolve) => {\n",
              "    cancel.onclick = () => {\n",
              "      resolve(null);\n",
              "    };\n",
              "  });\n",
              "\n",
              "  // Wait for the user to pick the files.\n",
              "  const files = yield {\n",
              "    promise: Promise.race([pickedPromise, cancelPromise]),\n",
              "    response: {\n",
              "      action: 'starting',\n",
              "    }\n",
              "  };\n",
              "\n",
              "  cancel.remove();\n",
              "\n",
              "  // Disable the input element since further picks are not allowed.\n",
              "  inputElement.disabled = true;\n",
              "\n",
              "  if (!files) {\n",
              "    return {\n",
              "      response: {\n",
              "        action: 'complete',\n",
              "      }\n",
              "    };\n",
              "  }\n",
              "\n",
              "  for (const file of files) {\n",
              "    const li = document.createElement('li');\n",
              "    li.append(span(file.name, {fontWeight: 'bold'}));\n",
              "    li.append(span(\n",
              "        `(${file.type || 'n/a'}) - ${file.size} bytes, ` +\n",
              "        `last modified: ${\n",
              "            file.lastModifiedDate ? file.lastModifiedDate.toLocaleDateString() :\n",
              "                                    'n/a'} - `));\n",
              "    const percent = span('0% done');\n",
              "    li.appendChild(percent);\n",
              "\n",
              "    outputElement.appendChild(li);\n",
              "\n",
              "    const fileDataPromise = new Promise((resolve) => {\n",
              "      const reader = new FileReader();\n",
              "      reader.onload = (e) => {\n",
              "        resolve(e.target.result);\n",
              "      };\n",
              "      reader.readAsArrayBuffer(file);\n",
              "    });\n",
              "    // Wait for the data to be ready.\n",
              "    let fileData = yield {\n",
              "      promise: fileDataPromise,\n",
              "      response: {\n",
              "        action: 'continue',\n",
              "      }\n",
              "    };\n",
              "\n",
              "    // Use a chunked sending to avoid message size limits. See b/62115660.\n",
              "    let position = 0;\n",
              "    do {\n",
              "      const length = Math.min(fileData.byteLength - position, MAX_PAYLOAD_SIZE);\n",
              "      const chunk = new Uint8Array(fileData, position, length);\n",
              "      position += length;\n",
              "\n",
              "      const base64 = btoa(String.fromCharCode.apply(null, chunk));\n",
              "      yield {\n",
              "        response: {\n",
              "          action: 'append',\n",
              "          file: file.name,\n",
              "          data: base64,\n",
              "        },\n",
              "      };\n",
              "\n",
              "      let percentDone = fileData.byteLength === 0 ?\n",
              "          100 :\n",
              "          Math.round((position / fileData.byteLength) * 100);\n",
              "      percent.textContent = `${percentDone}% done`;\n",
              "\n",
              "    } while (position < fileData.byteLength);\n",
              "  }\n",
              "\n",
              "  // All done.\n",
              "  yield {\n",
              "    response: {\n",
              "      action: 'complete',\n",
              "    }\n",
              "  };\n",
              "}\n",
              "\n",
              "scope.google = scope.google || {};\n",
              "scope.google.colab = scope.google.colab || {};\n",
              "scope.google.colab._files = {\n",
              "  _uploadFiles,\n",
              "  _uploadFilesContinue,\n",
              "};\n",
              "})(self);\n",
              "</script> "
            ]
          },
          "metadata": {}
        },
        {
          "output_type": "stream",
          "name": "stdout",
          "text": [
            "Saving data.xlsx to data (1).xlsx\n"
          ]
        }
      ],
      "source": [
        "from google.colab import files\n",
        "load=files.upload()"
      ]
    },
    {
      "cell_type": "code",
      "source": [
        "import pandas as pd"
      ],
      "metadata": {
        "id": "_H2qBz1YEDC-"
      },
      "execution_count": 40,
      "outputs": []
    },
    {
      "cell_type": "code",
      "source": [
        "data=pd.read_excel(load[\"data.xlsx\"])"
      ],
      "metadata": {
        "id": "hf9Aak9OEbAL"
      },
      "execution_count": 41,
      "outputs": []
    },
    {
      "cell_type": "code",
      "source": [
        "data.head()"
      ],
      "metadata": {
        "colab": {
          "base_uri": "https://localhost:8080/",
          "height": 206
        },
        "id": "hv9NI9zeEpnH",
        "outputId": "985cc77d-0035-47b8-90a5-7ce96e012b39"
      },
      "execution_count": 42,
      "outputs": [
        {
          "output_type": "execute_result",
          "data": {
            "text/plain": [
              "   Id  SepalLength  SepalWidth  PetalLength  PetalWidth         Name\n",
              "0   1          5.1         3.5          1.4         0.2  Iris-setosa\n",
              "1   2          4.9         3.0          1.4         0.2  Iris-setosa\n",
              "2   3          4.7         3.2          1.3         0.2  Iris-setosa\n",
              "3   4          4.6         3.1          1.5         0.2  Iris-setosa\n",
              "4   5          5.0         3.6          1.4         0.2  Iris-setosa"
            ],
            "text/html": [
              "\n",
              "  <div id=\"df-b2491844-1195-475b-a186-2dd877a53e85\">\n",
              "    <div class=\"colab-df-container\">\n",
              "      <div>\n",
              "<style scoped>\n",
              "    .dataframe tbody tr th:only-of-type {\n",
              "        vertical-align: middle;\n",
              "    }\n",
              "\n",
              "    .dataframe tbody tr th {\n",
              "        vertical-align: top;\n",
              "    }\n",
              "\n",
              "    .dataframe thead th {\n",
              "        text-align: right;\n",
              "    }\n",
              "</style>\n",
              "<table border=\"1\" class=\"dataframe\">\n",
              "  <thead>\n",
              "    <tr style=\"text-align: right;\">\n",
              "      <th></th>\n",
              "      <th>Id</th>\n",
              "      <th>SepalLength</th>\n",
              "      <th>SepalWidth</th>\n",
              "      <th>PetalLength</th>\n",
              "      <th>PetalWidth</th>\n",
              "      <th>Name</th>\n",
              "    </tr>\n",
              "  </thead>\n",
              "  <tbody>\n",
              "    <tr>\n",
              "      <th>0</th>\n",
              "      <td>1</td>\n",
              "      <td>5.1</td>\n",
              "      <td>3.5</td>\n",
              "      <td>1.4</td>\n",
              "      <td>0.2</td>\n",
              "      <td>Iris-setosa</td>\n",
              "    </tr>\n",
              "    <tr>\n",
              "      <th>1</th>\n",
              "      <td>2</td>\n",
              "      <td>4.9</td>\n",
              "      <td>3.0</td>\n",
              "      <td>1.4</td>\n",
              "      <td>0.2</td>\n",
              "      <td>Iris-setosa</td>\n",
              "    </tr>\n",
              "    <tr>\n",
              "      <th>2</th>\n",
              "      <td>3</td>\n",
              "      <td>4.7</td>\n",
              "      <td>3.2</td>\n",
              "      <td>1.3</td>\n",
              "      <td>0.2</td>\n",
              "      <td>Iris-setosa</td>\n",
              "    </tr>\n",
              "    <tr>\n",
              "      <th>3</th>\n",
              "      <td>4</td>\n",
              "      <td>4.6</td>\n",
              "      <td>3.1</td>\n",
              "      <td>1.5</td>\n",
              "      <td>0.2</td>\n",
              "      <td>Iris-setosa</td>\n",
              "    </tr>\n",
              "    <tr>\n",
              "      <th>4</th>\n",
              "      <td>5</td>\n",
              "      <td>5.0</td>\n",
              "      <td>3.6</td>\n",
              "      <td>1.4</td>\n",
              "      <td>0.2</td>\n",
              "      <td>Iris-setosa</td>\n",
              "    </tr>\n",
              "  </tbody>\n",
              "</table>\n",
              "</div>\n",
              "      <button class=\"colab-df-convert\" onclick=\"convertToInteractive('df-b2491844-1195-475b-a186-2dd877a53e85')\"\n",
              "              title=\"Convert this dataframe to an interactive table.\"\n",
              "              style=\"display:none;\">\n",
              "        \n",
              "  <svg xmlns=\"http://www.w3.org/2000/svg\" height=\"24px\"viewBox=\"0 0 24 24\"\n",
              "       width=\"24px\">\n",
              "    <path d=\"M0 0h24v24H0V0z\" fill=\"none\"/>\n",
              "    <path d=\"M18.56 5.44l.94 2.06.94-2.06 2.06-.94-2.06-.94-.94-2.06-.94 2.06-2.06.94zm-11 1L8.5 8.5l.94-2.06 2.06-.94-2.06-.94L8.5 2.5l-.94 2.06-2.06.94zm10 10l.94 2.06.94-2.06 2.06-.94-2.06-.94-.94-2.06-.94 2.06-2.06.94z\"/><path d=\"M17.41 7.96l-1.37-1.37c-.4-.4-.92-.59-1.43-.59-.52 0-1.04.2-1.43.59L10.3 9.45l-7.72 7.72c-.78.78-.78 2.05 0 2.83L4 21.41c.39.39.9.59 1.41.59.51 0 1.02-.2 1.41-.59l7.78-7.78 2.81-2.81c.8-.78.8-2.07 0-2.86zM5.41 20L4 18.59l7.72-7.72 1.47 1.35L5.41 20z\"/>\n",
              "  </svg>\n",
              "      </button>\n",
              "      \n",
              "  <style>\n",
              "    .colab-df-container {\n",
              "      display:flex;\n",
              "      flex-wrap:wrap;\n",
              "      gap: 12px;\n",
              "    }\n",
              "\n",
              "    .colab-df-convert {\n",
              "      background-color: #E8F0FE;\n",
              "      border: none;\n",
              "      border-radius: 50%;\n",
              "      cursor: pointer;\n",
              "      display: none;\n",
              "      fill: #1967D2;\n",
              "      height: 32px;\n",
              "      padding: 0 0 0 0;\n",
              "      width: 32px;\n",
              "    }\n",
              "\n",
              "    .colab-df-convert:hover {\n",
              "      background-color: #E2EBFA;\n",
              "      box-shadow: 0px 1px 2px rgba(60, 64, 67, 0.3), 0px 1px 3px 1px rgba(60, 64, 67, 0.15);\n",
              "      fill: #174EA6;\n",
              "    }\n",
              "\n",
              "    [theme=dark] .colab-df-convert {\n",
              "      background-color: #3B4455;\n",
              "      fill: #D2E3FC;\n",
              "    }\n",
              "\n",
              "    [theme=dark] .colab-df-convert:hover {\n",
              "      background-color: #434B5C;\n",
              "      box-shadow: 0px 1px 3px 1px rgba(0, 0, 0, 0.15);\n",
              "      filter: drop-shadow(0px 1px 2px rgba(0, 0, 0, 0.3));\n",
              "      fill: #FFFFFF;\n",
              "    }\n",
              "  </style>\n",
              "\n",
              "      <script>\n",
              "        const buttonEl =\n",
              "          document.querySelector('#df-b2491844-1195-475b-a186-2dd877a53e85 button.colab-df-convert');\n",
              "        buttonEl.style.display =\n",
              "          google.colab.kernel.accessAllowed ? 'block' : 'none';\n",
              "\n",
              "        async function convertToInteractive(key) {\n",
              "          const element = document.querySelector('#df-b2491844-1195-475b-a186-2dd877a53e85');\n",
              "          const dataTable =\n",
              "            await google.colab.kernel.invokeFunction('convertToInteractive',\n",
              "                                                     [key], {});\n",
              "          if (!dataTable) return;\n",
              "\n",
              "          const docLinkHtml = 'Like what you see? Visit the ' +\n",
              "            '<a target=\"_blank\" href=https://colab.research.google.com/notebooks/data_table.ipynb>data table notebook</a>'\n",
              "            + ' to learn more about interactive tables.';\n",
              "          element.innerHTML = '';\n",
              "          dataTable['output_type'] = 'display_data';\n",
              "          await google.colab.output.renderOutput(dataTable, element);\n",
              "          const docLink = document.createElement('div');\n",
              "          docLink.innerHTML = docLinkHtml;\n",
              "          element.appendChild(docLink);\n",
              "        }\n",
              "      </script>\n",
              "    </div>\n",
              "  </div>\n",
              "  "
            ]
          },
          "metadata": {},
          "execution_count": 42
        }
      ]
    },
    {
      "cell_type": "code",
      "source": [
        "data.shape"
      ],
      "metadata": {
        "colab": {
          "base_uri": "https://localhost:8080/"
        },
        "id": "MvmZRJZSnuQT",
        "outputId": "1e9b914d-ed27-4069-9dfe-7f2680aeea1d"
      },
      "execution_count": 43,
      "outputs": [
        {
          "output_type": "execute_result",
          "data": {
            "text/plain": [
              "(150, 6)"
            ]
          },
          "metadata": {},
          "execution_count": 43
        }
      ]
    },
    {
      "cell_type": "code",
      "source": [
        "from pandas import read_csv\n",
        "setosa=0\n",
        "virgoder=0\n",
        "# Lectura del dataset\n",
        "data_iris =pd.read_excel(load[\"data.xlsx\"])\n",
        "data_iris.head()"
      ],
      "metadata": {
        "colab": {
          "base_uri": "https://localhost:8080/",
          "height": 206
        },
        "id": "cmhw493coHCN",
        "outputId": "455a3948-eb2e-4c75-d462-e5888c71d221"
      },
      "execution_count": 44,
      "outputs": [
        {
          "output_type": "execute_result",
          "data": {
            "text/plain": [
              "   Id  SepalLength  SepalWidth  PetalLength  PetalWidth         Name\n",
              "0   1          5.1         3.5          1.4         0.2  Iris-setosa\n",
              "1   2          4.9         3.0          1.4         0.2  Iris-setosa\n",
              "2   3          4.7         3.2          1.3         0.2  Iris-setosa\n",
              "3   4          4.6         3.1          1.5         0.2  Iris-setosa\n",
              "4   5          5.0         3.6          1.4         0.2  Iris-setosa"
            ],
            "text/html": [
              "\n",
              "  <div id=\"df-7f4233c6-a4d5-4ffb-8e26-acd66b2389f4\">\n",
              "    <div class=\"colab-df-container\">\n",
              "      <div>\n",
              "<style scoped>\n",
              "    .dataframe tbody tr th:only-of-type {\n",
              "        vertical-align: middle;\n",
              "    }\n",
              "\n",
              "    .dataframe tbody tr th {\n",
              "        vertical-align: top;\n",
              "    }\n",
              "\n",
              "    .dataframe thead th {\n",
              "        text-align: right;\n",
              "    }\n",
              "</style>\n",
              "<table border=\"1\" class=\"dataframe\">\n",
              "  <thead>\n",
              "    <tr style=\"text-align: right;\">\n",
              "      <th></th>\n",
              "      <th>Id</th>\n",
              "      <th>SepalLength</th>\n",
              "      <th>SepalWidth</th>\n",
              "      <th>PetalLength</th>\n",
              "      <th>PetalWidth</th>\n",
              "      <th>Name</th>\n",
              "    </tr>\n",
              "  </thead>\n",
              "  <tbody>\n",
              "    <tr>\n",
              "      <th>0</th>\n",
              "      <td>1</td>\n",
              "      <td>5.1</td>\n",
              "      <td>3.5</td>\n",
              "      <td>1.4</td>\n",
              "      <td>0.2</td>\n",
              "      <td>Iris-setosa</td>\n",
              "    </tr>\n",
              "    <tr>\n",
              "      <th>1</th>\n",
              "      <td>2</td>\n",
              "      <td>4.9</td>\n",
              "      <td>3.0</td>\n",
              "      <td>1.4</td>\n",
              "      <td>0.2</td>\n",
              "      <td>Iris-setosa</td>\n",
              "    </tr>\n",
              "    <tr>\n",
              "      <th>2</th>\n",
              "      <td>3</td>\n",
              "      <td>4.7</td>\n",
              "      <td>3.2</td>\n",
              "      <td>1.3</td>\n",
              "      <td>0.2</td>\n",
              "      <td>Iris-setosa</td>\n",
              "    </tr>\n",
              "    <tr>\n",
              "      <th>3</th>\n",
              "      <td>4</td>\n",
              "      <td>4.6</td>\n",
              "      <td>3.1</td>\n",
              "      <td>1.5</td>\n",
              "      <td>0.2</td>\n",
              "      <td>Iris-setosa</td>\n",
              "    </tr>\n",
              "    <tr>\n",
              "      <th>4</th>\n",
              "      <td>5</td>\n",
              "      <td>5.0</td>\n",
              "      <td>3.6</td>\n",
              "      <td>1.4</td>\n",
              "      <td>0.2</td>\n",
              "      <td>Iris-setosa</td>\n",
              "    </tr>\n",
              "  </tbody>\n",
              "</table>\n",
              "</div>\n",
              "      <button class=\"colab-df-convert\" onclick=\"convertToInteractive('df-7f4233c6-a4d5-4ffb-8e26-acd66b2389f4')\"\n",
              "              title=\"Convert this dataframe to an interactive table.\"\n",
              "              style=\"display:none;\">\n",
              "        \n",
              "  <svg xmlns=\"http://www.w3.org/2000/svg\" height=\"24px\"viewBox=\"0 0 24 24\"\n",
              "       width=\"24px\">\n",
              "    <path d=\"M0 0h24v24H0V0z\" fill=\"none\"/>\n",
              "    <path d=\"M18.56 5.44l.94 2.06.94-2.06 2.06-.94-2.06-.94-.94-2.06-.94 2.06-2.06.94zm-11 1L8.5 8.5l.94-2.06 2.06-.94-2.06-.94L8.5 2.5l-.94 2.06-2.06.94zm10 10l.94 2.06.94-2.06 2.06-.94-2.06-.94-.94-2.06-.94 2.06-2.06.94z\"/><path d=\"M17.41 7.96l-1.37-1.37c-.4-.4-.92-.59-1.43-.59-.52 0-1.04.2-1.43.59L10.3 9.45l-7.72 7.72c-.78.78-.78 2.05 0 2.83L4 21.41c.39.39.9.59 1.41.59.51 0 1.02-.2 1.41-.59l7.78-7.78 2.81-2.81c.8-.78.8-2.07 0-2.86zM5.41 20L4 18.59l7.72-7.72 1.47 1.35L5.41 20z\"/>\n",
              "  </svg>\n",
              "      </button>\n",
              "      \n",
              "  <style>\n",
              "    .colab-df-container {\n",
              "      display:flex;\n",
              "      flex-wrap:wrap;\n",
              "      gap: 12px;\n",
              "    }\n",
              "\n",
              "    .colab-df-convert {\n",
              "      background-color: #E8F0FE;\n",
              "      border: none;\n",
              "      border-radius: 50%;\n",
              "      cursor: pointer;\n",
              "      display: none;\n",
              "      fill: #1967D2;\n",
              "      height: 32px;\n",
              "      padding: 0 0 0 0;\n",
              "      width: 32px;\n",
              "    }\n",
              "\n",
              "    .colab-df-convert:hover {\n",
              "      background-color: #E2EBFA;\n",
              "      box-shadow: 0px 1px 2px rgba(60, 64, 67, 0.3), 0px 1px 3px 1px rgba(60, 64, 67, 0.15);\n",
              "      fill: #174EA6;\n",
              "    }\n",
              "\n",
              "    [theme=dark] .colab-df-convert {\n",
              "      background-color: #3B4455;\n",
              "      fill: #D2E3FC;\n",
              "    }\n",
              "\n",
              "    [theme=dark] .colab-df-convert:hover {\n",
              "      background-color: #434B5C;\n",
              "      box-shadow: 0px 1px 3px 1px rgba(0, 0, 0, 0.15);\n",
              "      filter: drop-shadow(0px 1px 2px rgba(0, 0, 0, 0.3));\n",
              "      fill: #FFFFFF;\n",
              "    }\n",
              "  </style>\n",
              "\n",
              "      <script>\n",
              "        const buttonEl =\n",
              "          document.querySelector('#df-7f4233c6-a4d5-4ffb-8e26-acd66b2389f4 button.colab-df-convert');\n",
              "        buttonEl.style.display =\n",
              "          google.colab.kernel.accessAllowed ? 'block' : 'none';\n",
              "\n",
              "        async function convertToInteractive(key) {\n",
              "          const element = document.querySelector('#df-7f4233c6-a4d5-4ffb-8e26-acd66b2389f4');\n",
              "          const dataTable =\n",
              "            await google.colab.kernel.invokeFunction('convertToInteractive',\n",
              "                                                     [key], {});\n",
              "          if (!dataTable) return;\n",
              "\n",
              "          const docLinkHtml = 'Like what you see? Visit the ' +\n",
              "            '<a target=\"_blank\" href=https://colab.research.google.com/notebooks/data_table.ipynb>data table notebook</a>'\n",
              "            + ' to learn more about interactive tables.';\n",
              "          element.innerHTML = '';\n",
              "          dataTable['output_type'] = 'display_data';\n",
              "          await google.colab.output.renderOutput(dataTable, element);\n",
              "          const docLink = document.createElement('div');\n",
              "          docLink.innerHTML = docLinkHtml;\n",
              "          element.appendChild(docLink);\n",
              "        }\n",
              "      </script>\n",
              "    </div>\n",
              "  </div>\n",
              "  "
            ]
          },
          "metadata": {},
          "execution_count": 44
        }
      ]
    },
    {
      "cell_type": "code",
      "source": [
        "from pandas import read_csv\n",
        "setosa=0\n",
        "virgoder=0\n",
        "# Lectura del dataset\n",
        "data_iris =pd.read_excel(load[\"data.xlsx\"])\n",
        "data_iris.tail()"
      ],
      "metadata": {
        "colab": {
          "base_uri": "https://localhost:8080/",
          "height": 206
        },
        "id": "03vmvCDioo0l",
        "outputId": "45cba5cf-92e0-486d-9a0e-66bee5b0f5e3"
      },
      "execution_count": 45,
      "outputs": [
        {
          "output_type": "execute_result",
          "data": {
            "text/plain": [
              "      Id  SepalLength  SepalWidth  PetalLength  PetalWidth            Name\n",
              "145  146          6.7         3.0          5.2         2.3  Iris-virginica\n",
              "146  147          6.3         2.5          5.0         1.9  Iris-virginica\n",
              "147  148          6.5         3.0          5.2         2.0  Iris-virginica\n",
              "148  149          6.2         3.4          5.4         2.3  Iris-virginica\n",
              "149  150          5.9         3.0          5.1         1.8  Iris-virginica"
            ],
            "text/html": [
              "\n",
              "  <div id=\"df-4da9d7b3-c08c-4261-9bec-4441f875fe6a\">\n",
              "    <div class=\"colab-df-container\">\n",
              "      <div>\n",
              "<style scoped>\n",
              "    .dataframe tbody tr th:only-of-type {\n",
              "        vertical-align: middle;\n",
              "    }\n",
              "\n",
              "    .dataframe tbody tr th {\n",
              "        vertical-align: top;\n",
              "    }\n",
              "\n",
              "    .dataframe thead th {\n",
              "        text-align: right;\n",
              "    }\n",
              "</style>\n",
              "<table border=\"1\" class=\"dataframe\">\n",
              "  <thead>\n",
              "    <tr style=\"text-align: right;\">\n",
              "      <th></th>\n",
              "      <th>Id</th>\n",
              "      <th>SepalLength</th>\n",
              "      <th>SepalWidth</th>\n",
              "      <th>PetalLength</th>\n",
              "      <th>PetalWidth</th>\n",
              "      <th>Name</th>\n",
              "    </tr>\n",
              "  </thead>\n",
              "  <tbody>\n",
              "    <tr>\n",
              "      <th>145</th>\n",
              "      <td>146</td>\n",
              "      <td>6.7</td>\n",
              "      <td>3.0</td>\n",
              "      <td>5.2</td>\n",
              "      <td>2.3</td>\n",
              "      <td>Iris-virginica</td>\n",
              "    </tr>\n",
              "    <tr>\n",
              "      <th>146</th>\n",
              "      <td>147</td>\n",
              "      <td>6.3</td>\n",
              "      <td>2.5</td>\n",
              "      <td>5.0</td>\n",
              "      <td>1.9</td>\n",
              "      <td>Iris-virginica</td>\n",
              "    </tr>\n",
              "    <tr>\n",
              "      <th>147</th>\n",
              "      <td>148</td>\n",
              "      <td>6.5</td>\n",
              "      <td>3.0</td>\n",
              "      <td>5.2</td>\n",
              "      <td>2.0</td>\n",
              "      <td>Iris-virginica</td>\n",
              "    </tr>\n",
              "    <tr>\n",
              "      <th>148</th>\n",
              "      <td>149</td>\n",
              "      <td>6.2</td>\n",
              "      <td>3.4</td>\n",
              "      <td>5.4</td>\n",
              "      <td>2.3</td>\n",
              "      <td>Iris-virginica</td>\n",
              "    </tr>\n",
              "    <tr>\n",
              "      <th>149</th>\n",
              "      <td>150</td>\n",
              "      <td>5.9</td>\n",
              "      <td>3.0</td>\n",
              "      <td>5.1</td>\n",
              "      <td>1.8</td>\n",
              "      <td>Iris-virginica</td>\n",
              "    </tr>\n",
              "  </tbody>\n",
              "</table>\n",
              "</div>\n",
              "      <button class=\"colab-df-convert\" onclick=\"convertToInteractive('df-4da9d7b3-c08c-4261-9bec-4441f875fe6a')\"\n",
              "              title=\"Convert this dataframe to an interactive table.\"\n",
              "              style=\"display:none;\">\n",
              "        \n",
              "  <svg xmlns=\"http://www.w3.org/2000/svg\" height=\"24px\"viewBox=\"0 0 24 24\"\n",
              "       width=\"24px\">\n",
              "    <path d=\"M0 0h24v24H0V0z\" fill=\"none\"/>\n",
              "    <path d=\"M18.56 5.44l.94 2.06.94-2.06 2.06-.94-2.06-.94-.94-2.06-.94 2.06-2.06.94zm-11 1L8.5 8.5l.94-2.06 2.06-.94-2.06-.94L8.5 2.5l-.94 2.06-2.06.94zm10 10l.94 2.06.94-2.06 2.06-.94-2.06-.94-.94-2.06-.94 2.06-2.06.94z\"/><path d=\"M17.41 7.96l-1.37-1.37c-.4-.4-.92-.59-1.43-.59-.52 0-1.04.2-1.43.59L10.3 9.45l-7.72 7.72c-.78.78-.78 2.05 0 2.83L4 21.41c.39.39.9.59 1.41.59.51 0 1.02-.2 1.41-.59l7.78-7.78 2.81-2.81c.8-.78.8-2.07 0-2.86zM5.41 20L4 18.59l7.72-7.72 1.47 1.35L5.41 20z\"/>\n",
              "  </svg>\n",
              "      </button>\n",
              "      \n",
              "  <style>\n",
              "    .colab-df-container {\n",
              "      display:flex;\n",
              "      flex-wrap:wrap;\n",
              "      gap: 12px;\n",
              "    }\n",
              "\n",
              "    .colab-df-convert {\n",
              "      background-color: #E8F0FE;\n",
              "      border: none;\n",
              "      border-radius: 50%;\n",
              "      cursor: pointer;\n",
              "      display: none;\n",
              "      fill: #1967D2;\n",
              "      height: 32px;\n",
              "      padding: 0 0 0 0;\n",
              "      width: 32px;\n",
              "    }\n",
              "\n",
              "    .colab-df-convert:hover {\n",
              "      background-color: #E2EBFA;\n",
              "      box-shadow: 0px 1px 2px rgba(60, 64, 67, 0.3), 0px 1px 3px 1px rgba(60, 64, 67, 0.15);\n",
              "      fill: #174EA6;\n",
              "    }\n",
              "\n",
              "    [theme=dark] .colab-df-convert {\n",
              "      background-color: #3B4455;\n",
              "      fill: #D2E3FC;\n",
              "    }\n",
              "\n",
              "    [theme=dark] .colab-df-convert:hover {\n",
              "      background-color: #434B5C;\n",
              "      box-shadow: 0px 1px 3px 1px rgba(0, 0, 0, 0.15);\n",
              "      filter: drop-shadow(0px 1px 2px rgba(0, 0, 0, 0.3));\n",
              "      fill: #FFFFFF;\n",
              "    }\n",
              "  </style>\n",
              "\n",
              "      <script>\n",
              "        const buttonEl =\n",
              "          document.querySelector('#df-4da9d7b3-c08c-4261-9bec-4441f875fe6a button.colab-df-convert');\n",
              "        buttonEl.style.display =\n",
              "          google.colab.kernel.accessAllowed ? 'block' : 'none';\n",
              "\n",
              "        async function convertToInteractive(key) {\n",
              "          const element = document.querySelector('#df-4da9d7b3-c08c-4261-9bec-4441f875fe6a');\n",
              "          const dataTable =\n",
              "            await google.colab.kernel.invokeFunction('convertToInteractive',\n",
              "                                                     [key], {});\n",
              "          if (!dataTable) return;\n",
              "\n",
              "          const docLinkHtml = 'Like what you see? Visit the ' +\n",
              "            '<a target=\"_blank\" href=https://colab.research.google.com/notebooks/data_table.ipynb>data table notebook</a>'\n",
              "            + ' to learn more about interactive tables.';\n",
              "          element.innerHTML = '';\n",
              "          dataTable['output_type'] = 'display_data';\n",
              "          await google.colab.output.renderOutput(dataTable, element);\n",
              "          const docLink = document.createElement('div');\n",
              "          docLink.innerHTML = docLinkHtml;\n",
              "          element.appendChild(docLink);\n",
              "        }\n",
              "      </script>\n",
              "    </div>\n",
              "  </div>\n",
              "  "
            ]
          },
          "metadata": {},
          "execution_count": 45
        }
      ]
    },
    {
      "cell_type": "code",
      "source": [
        "virgover=0\n",
        "# lectura del dataset\n",
        "data_iris =pd.read_excel(load[\"data.xlsx\"])\n",
        "arriba=data_iris.head()\n",
        "abajo=data_iris.tail()\n",
        "concatenar=pd.concat([arriba,abajo])\n",
        "print(concatenar)\n"
      ],
      "metadata": {
        "colab": {
          "base_uri": "https://localhost:8080/"
        },
        "id": "qmQJGKV-slpz",
        "outputId": "9859be78-0028-4f9a-e13d-4f7358e76455"
      },
      "execution_count": 46,
      "outputs": [
        {
          "output_type": "stream",
          "name": "stdout",
          "text": [
            "      Id  SepalLength  SepalWidth  PetalLength  PetalWidth            Name\n",
            "0      1          5.1         3.5          1.4         0.2     Iris-setosa\n",
            "1      2          4.9         3.0          1.4         0.2     Iris-setosa\n",
            "2      3          4.7         3.2          1.3         0.2     Iris-setosa\n",
            "3      4          4.6         3.1          1.5         0.2     Iris-setosa\n",
            "4      5          5.0         3.6          1.4         0.2     Iris-setosa\n",
            "145  146          6.7         3.0          5.2         2.3  Iris-virginica\n",
            "146  147          6.3         2.5          5.0         1.9  Iris-virginica\n",
            "147  148          6.5         3.0          5.2         2.0  Iris-virginica\n",
            "148  149          6.2         3.4          5.4         2.3  Iris-virginica\n",
            "149  150          5.9         3.0          5.1         1.8  Iris-virginica\n"
          ]
        }
      ]
    },
    {
      "cell_type": "code",
      "source": [
        "from pandas import read_csv\n",
        "# lectura del dataset\n",
        "data_iris =pd.read_excel(load[\"data.xlsx\"])\n",
        "#mostrar en un conjunto de datos\n",
        "print(data_iris.shape)"
      ],
      "metadata": {
        "colab": {
          "base_uri": "https://localhost:8080/"
        },
        "id": "eMNRhd5YtM83",
        "outputId": "2c65ea5a-b10d-4946-96d6-3a63e6852e83"
      },
      "execution_count": 47,
      "outputs": [
        {
          "output_type": "stream",
          "name": "stdout",
          "text": [
            "(150, 6)\n"
          ]
        }
      ]
    },
    {
      "cell_type": "code",
      "source": [
        "from pandas import read_csv\n",
        "# lectura del dataset\n",
        "data_iris =pd.read_excel(load[\"data.xlsx\"])\n",
        "#mostrar en un conjunto de datos\n",
        "print(data_iris[\"Name\"].value_counts())"
      ],
      "metadata": {
        "colab": {
          "base_uri": "https://localhost:8080/"
        },
        "id": "ZJFT3pX_tV3j",
        "outputId": "509f2be0-f791-4c54-c5e5-0d30b12afebf"
      },
      "execution_count": 48,
      "outputs": [
        {
          "output_type": "stream",
          "name": "stdout",
          "text": [
            "Iris-setosa        50\n",
            "Iris-versicolor    50\n",
            "Iris-virginica     50\n",
            "Name: Name, dtype: int64\n"
          ]
        }
      ]
    },
    {
      "cell_type": "code",
      "source": [
        "import numpy as np0\n",
        "import pandas as pd0\n",
        "import matplotlib.pyplot as plt0\n",
        "from pandas import read_csv\n",
        "setosa=0\n",
        "virgover=0\n",
        "# lectura del dataset\n",
        "data_iris =pd.read_excel(load[\"data.xlsx\"])\n",
        "#clasicar por familia\n",
        "setosa = data_iris[data_iris.Name == 'Iris-setosa']\n",
        "versicolor=data_iris[data_iris.Name=='Iris-versicolor']\n",
        "virginica = data_iris[data_iris.Name == 'Iris-virginica']\n",
        "# crear histograma\n",
        "plt0.figure(figsize=(10, 8))"
      ],
      "metadata": {
        "colab": {
          "base_uri": "https://localhost:8080/",
          "height": 52
        },
        "id": "p-4A-q6Vut0i",
        "outputId": "8fac69b1-0e48-4b8c-8ead-58089c80d336"
      },
      "execution_count": 49,
      "outputs": [
        {
          "output_type": "execute_result",
          "data": {
            "text/plain": [
              "<Figure size 1000x800 with 0 Axes>"
            ]
          },
          "metadata": {},
          "execution_count": 49
        },
        {
          "output_type": "display_data",
          "data": {
            "text/plain": [
              "<Figure size 1000x800 with 0 Axes>"
            ]
          },
          "metadata": {}
        }
      ]
    },
    {
      "cell_type": "code",
      "source": [
        "n, bins, patches = plt0.hist(setosa['PetalLength'], 12, facecolor='yellow', label='setosa')\n",
        "n, bins, patches = plt0.hist(versicolor['PetalLength'], 15,facecolor='lime', label='versicolor')\n",
        "n, bins, patches = plt0.hist(virginica['PetalLength'], 15, facecolor='aqua', label='virginica')\n",
        "plt0.title('Histograma Iris')\n",
        "plt0.xlabel('largo del pétalo')\n",
        "plt0.ylabel('cuenta largo del pétalo')\n",
        "plt0.show()\n"
      ],
      "metadata": {
        "colab": {
          "base_uri": "https://localhost:8080/",
          "height": 472
        },
        "id": "rxXZTbq8v8Sd",
        "outputId": "2e53a705-3d0c-46e7-8d45-e74a56323043"
      },
      "execution_count": 50,
      "outputs": [
        {
          "output_type": "display_data",
          "data": {
            "text/plain": [
              "<Figure size 640x480 with 1 Axes>"
            ],
            "image/png": "[encoded data removed]"
          },
          "metadata": {}
        }
      ]
    },
    {
      "cell_type": "code",
      "source": [
        "import numpy as np0\n",
        "import pandas as pd0\n",
        "import matplotlib.pyplot as plt0\n",
        "from pandas import read_csv\n",
        "# lectura del dataset\n",
        "data_iris =pd.read_excel(load[\"data.xlsx\"])\n",
        "#clasificar por familia\n",
        "setosa = data_iris[data_iris.Name == 'Iris-setosa']\n",
        "versicolor = data_iris[data_iris.Name == 'Iris-versicolor']\n",
        "virginica = data_iris[data_iris.Name == 'Iris-virginica']\n",
        "plt0.figure(figsize=(10, 10))"
      ],
      "metadata": {
        "colab": {
          "base_uri": "https://localhost:8080/",
          "height": 52
        },
        "id": "M_zGTHKnxoW1",
        "outputId": "45bbc040-efc4-49df-c35c-6f80bf8dd67c"
      },
      "execution_count": 51,
      "outputs": [
        {
          "output_type": "execute_result",
          "data": {
            "text/plain": [
              "<Figure size 1000x1000 with 0 Axes>"
            ]
          },
          "metadata": {},
          "execution_count": 51
        },
        {
          "output_type": "display_data",
          "data": {
            "text/plain": [
              "<Figure size 1000x1000 with 0 Axes>"
            ]
          },
          "metadata": {}
        }
      ]
    },
    {
      "cell_type": "code",
      "source": [
        "import matplotlib. pyplot as plt\n",
        "plt.scatter(setosa['PetalLength'], setosa['PetalWidth'], c='yellow', label='Iris-setosa')\n",
        "plt.scatter(versicolor['PetalLength'], versicolor['PetalWidth'], c='lime', label='Iris-versicolor')\n",
        "plt.scatter(virginica['PetalLength'], virginica['PetalWidth'], c='aqua', label='Iris-virginica')\n",
        "plt.title('Tamaño del pétalo')\n",
        "plt.xlabel('Largo del pétalo (cm)')\n",
        "plt.ylabel('Ancho del pétalo (cm)')\n",
        "plt.show()"
      ],
      "metadata": {
        "colab": {
          "base_uri": "https://localhost:8080/",
          "height": 473
        },
        "id": "AUyLXO9TynTV",
        "outputId": "9be2c84e-f54c-46de-99da-24757a22f9a0"
      },
      "execution_count": 52,
      "outputs": [
        {
          "output_type": "display_data",
          "data": {
            "text/plain": [
              "<Figure size 640x480 with 1 Axes>"
            ],
            "image/png": "[encoded data removed]"
          },
          "metadata": {}
        }
      ]
    },
    {
      "cell_type": "code",
      "source": [
        "from pandas import read_excel\n",
        "setosa=0\n",
        "virgover=0\n",
        "# lectura del dataset\n",
        "data_iris =read_excel(load[\"data.xlsx\"])"
      ],
      "metadata": {
        "id": "GHAm1AjFha27"
      },
      "execution_count": 53,
      "outputs": []
    },
    {
      "cell_type": "code",
      "source": [
        "for valores in data_iris.PetalLength.values:\n",
        "  if valores < 2: \n",
        "    print('Es setosa')\n",
        "    setosa=setosa+1\n",
        "  else:\n",
        "    print('Es virginica o versicolor')\n",
        "    virgover=virgover+1\n",
        "print(\"=\"*20)\n",
        "print(\"Total setosa :\",setosa)\n",
        "print(\"=\"*20)\n",
        "print(\"Total virginica o versicolor :\",virgover)\n",
        "print(\"=\"*20)"
      ],
      "metadata": {
        "id": "y7EIvCsWh1Ak",
        "colab": {
          "base_uri": "https://localhost:8080/"
        },
        "outputId": "52a37f2b-3075-4941-975b-af31145f84ad"
      },
      "execution_count": 54,
      "outputs": [
        {
          "output_type": "stream",
          "name": "stdout",
          "text": [
            "Es setosa\n",
            "Es setosa\n",
            "Es setosa\n",
            "Es setosa\n",
            "Es setosa\n",
            "Es setosa\n",
            "Es setosa\n",
            "Es setosa\n",
            "Es setosa\n",
            "Es setosa\n",
            "Es setosa\n",
            "Es setosa\n",
            "Es setosa\n",
            "Es setosa\n",
            "Es setosa\n",
            "Es setosa\n",
            "Es setosa\n",
            "Es setosa\n",
            "Es setosa\n",
            "Es setosa\n",
            "Es setosa\n",
            "Es setosa\n",
            "Es setosa\n",
            "Es setosa\n",
            "Es setosa\n",
            "Es setosa\n",
            "Es setosa\n",
            "Es setosa\n",
            "Es setosa\n",
            "Es setosa\n",
            "Es setosa\n",
            "Es setosa\n",
            "Es setosa\n",
            "Es setosa\n",
            "Es setosa\n",
            "Es setosa\n",
            "Es setosa\n",
            "Es setosa\n",
            "Es setosa\n",
            "Es setosa\n",
            "Es setosa\n",
            "Es setosa\n",
            "Es setosa\n",
            "Es setosa\n",
            "Es setosa\n",
            "Es setosa\n",
            "Es setosa\n",
            "Es setosa\n",
            "Es setosa\n",
            "Es setosa\n",
            "Es virginica o versicolor\n",
            "Es virginica o versicolor\n",
            "Es virginica o versicolor\n",
            "Es virginica o versicolor\n",
            "Es virginica o versicolor\n",
            "Es virginica o versicolor\n",
            "Es virginica o versicolor\n",
            "Es virginica o versicolor\n",
            "Es virginica o versicolor\n",
            "Es virginica o versicolor\n",
            "Es virginica o versicolor\n",
            "Es virginica o versicolor\n",
            "Es virginica o versicolor\n",
            "Es virginica o versicolor\n",
            "Es virginica o versicolor\n",
            "Es virginica o versicolor\n",
            "Es virginica o versicolor\n",
            "Es virginica o versicolor\n",
            "Es virginica o versicolor\n",
            "Es virginica o versicolor\n",
            "Es virginica o versicolor\n",
            "Es virginica o versicolor\n",
            "Es virginica o versicolor\n",
            "Es virginica o versicolor\n",
            "Es virginica o versicolor\n",
            "Es virginica o versicolor\n",
            "Es virginica o versicolor\n",
            "Es virginica o versicolor\n",
            "Es virginica o versicolor\n",
            "Es virginica o versicolor\n",
            "Es virginica o versicolor\n",
            "Es virginica o versicolor\n",
            "Es virginica o versicolor\n",
            "Es virginica o versicolor\n",
            "Es virginica o versicolor\n",
            "Es virginica o versicolor\n",
            "Es virginica o versicolor\n",
            "Es virginica o versicolor\n",
            "Es virginica o versicolor\n",
            "Es virginica o versicolor\n",
            "Es virginica o versicolor\n",
            "Es virginica o versicolor\n",
            "Es virginica o versicolor\n",
            "Es virginica o versicolor\n",
            "Es virginica o versicolor\n",
            "Es virginica o versicolor\n",
            "Es virginica o versicolor\n",
            "Es virginica o versicolor\n",
            "Es virginica o versicolor\n",
            "Es virginica o versicolor\n",
            "Es virginica o versicolor\n",
            "Es virginica o versicolor\n",
            "Es virginica o versicolor\n",
            "Es virginica o versicolor\n",
            "Es virginica o versicolor\n",
            "Es virginica o versicolor\n",
            "Es virginica o versicolor\n",
            "Es virginica o versicolor\n",
            "Es virginica o versicolor\n",
            "Es virginica o versicolor\n",
            "Es virginica o versicolor\n",
            "Es virginica o versicolor\n",
            "Es virginica o versicolor\n",
            "Es virginica o versicolor\n",
            "Es virginica o versicolor\n",
            "Es virginica o versicolor\n",
            "Es virginica o versicolor\n",
            "Es virginica o versicolor\n",
            "Es virginica o versicolor\n",
            "Es virginica o versicolor\n",
            "Es virginica o versicolor\n",
            "Es virginica o versicolor\n",
            "Es virginica o versicolor\n",
            "Es virginica o versicolor\n",
            "Es virginica o versicolor\n",
            "Es virginica o versicolor\n",
            "Es virginica o versicolor\n",
            "Es virginica o versicolor\n",
            "Es virginica o versicolor\n",
            "Es virginica o versicolor\n",
            "Es virginica o versicolor\n",
            "Es virginica o versicolor\n",
            "Es virginica o versicolor\n",
            "Es virginica o versicolor\n",
            "Es virginica o versicolor\n",
            "Es virginica o versicolor\n",
            "Es virginica o versicolor\n",
            "Es virginica o versicolor\n",
            "Es virginica o versicolor\n",
            "Es virginica o versicolor\n",
            "Es virginica o versicolor\n",
            "Es virginica o versicolor\n",
            "Es virginica o versicolor\n",
            "Es virginica o versicolor\n",
            "Es virginica o versicolor\n",
            "Es virginica o versicolor\n",
            "Es virginica o versicolor\n",
            "Es virginica o versicolor\n",
            "Es virginica o versicolor\n",
            "Es virginica o versicolor\n",
            "====================\n",
            "Total setosa : 50\n",
            "====================\n",
            "Total virginica o versicolor : 100\n",
            "====================\n"
          ]
        }
      ]
    },
    {
      "cell_type": "code",
      "source": [
        "from pandas import read_excel"
      ],
      "metadata": {
        "id": "N6sacEaNkyBm"
      },
      "execution_count": 55,
      "outputs": []
    },
    {
      "cell_type": "code",
      "source": [
        "setosa=0\n",
        "virgover=0"
      ],
      "metadata": {
        "id": "4dfcARj3k2nD"
      },
      "execution_count": 56,
      "outputs": []
    },
    {
      "cell_type": "code",
      "source": [
        "data_iris =read_excel(load[\"data.xlsx\"])"
      ],
      "metadata": {
        "id": "VWESO_x4k2sY"
      },
      "execution_count": 57,
      "outputs": []
    },
    {
      "cell_type": "code",
      "source": [
        "for valores in data_iris.PetalLength.values:\n",
        "  if valores < 2:\n",
        "    print('Es setosa')\n",
        "    setosa=setosa+1\n",
        "  else:\n",
        "    print('Es virginica o versicolor')\n",
        "    virgover=virgover+1"
      ],
      "metadata": {
        "id": "BW8RQl3Pk72r",
        "colab": {
          "base_uri": "https://localhost:8080/"
        },
        "outputId": "68d48913-fcc9-45d4-bd46-b938e1317d9d"
      },
      "execution_count": 58,
      "outputs": [
        {
          "output_type": "stream",
          "name": "stdout",
          "text": [
            "Es setosa\n",
            "Es setosa\n",
            "Es setosa\n",
            "Es setosa\n",
            "Es setosa\n",
            "Es setosa\n",
            "Es setosa\n",
            "Es setosa\n",
            "Es setosa\n",
            "Es setosa\n",
            "Es setosa\n",
            "Es setosa\n",
            "Es setosa\n",
            "Es setosa\n",
            "Es setosa\n",
            "Es setosa\n",
            "Es setosa\n",
            "Es setosa\n",
            "Es setosa\n",
            "Es setosa\n",
            "Es setosa\n",
            "Es setosa\n",
            "Es setosa\n",
            "Es setosa\n",
            "Es setosa\n",
            "Es setosa\n",
            "Es setosa\n",
            "Es setosa\n",
            "Es setosa\n",
            "Es setosa\n",
            "Es setosa\n",
            "Es setosa\n",
            "Es setosa\n",
            "Es setosa\n",
            "Es setosa\n",
            "Es setosa\n",
            "Es setosa\n",
            "Es setosa\n",
            "Es setosa\n",
            "Es setosa\n",
            "Es setosa\n",
            "Es setosa\n",
            "Es setosa\n",
            "Es setosa\n",
            "Es setosa\n",
            "Es setosa\n",
            "Es setosa\n",
            "Es setosa\n",
            "Es setosa\n",
            "Es setosa\n",
            "Es virginica o versicolor\n",
            "Es virginica o versicolor\n",
            "Es virginica o versicolor\n",
            "Es virginica o versicolor\n",
            "Es virginica o versicolor\n",
            "Es virginica o versicolor\n",
            "Es virginica o versicolor\n",
            "Es virginica o versicolor\n",
            "Es virginica o versicolor\n",
            "Es virginica o versicolor\n",
            "Es virginica o versicolor\n",
            "Es virginica o versicolor\n",
            "Es virginica o versicolor\n",
            "Es virginica o versicolor\n",
            "Es virginica o versicolor\n",
            "Es virginica o versicolor\n",
            "Es virginica o versicolor\n",
            "Es virginica o versicolor\n",
            "Es virginica o versicolor\n",
            "Es virginica o versicolor\n",
            "Es virginica o versicolor\n",
            "Es virginica o versicolor\n",
            "Es virginica o versicolor\n",
            "Es virginica o versicolor\n",
            "Es virginica o versicolor\n",
            "Es virginica o versicolor\n",
            "Es virginica o versicolor\n",
            "Es virginica o versicolor\n",
            "Es virginica o versicolor\n",
            "Es virginica o versicolor\n",
            "Es virginica o versicolor\n",
            "Es virginica o versicolor\n",
            "Es virginica o versicolor\n",
            "Es virginica o versicolor\n",
            "Es virginica o versicolor\n",
            "Es virginica o versicolor\n",
            "Es virginica o versicolor\n",
            "Es virginica o versicolor\n",
            "Es virginica o versicolor\n",
            "Es virginica o versicolor\n",
            "Es virginica o versicolor\n",
            "Es virginica o versicolor\n",
            "Es virginica o versicolor\n",
            "Es virginica o versicolor\n",
            "Es virginica o versicolor\n",
            "Es virginica o versicolor\n",
            "Es virginica o versicolor\n",
            "Es virginica o versicolor\n",
            "Es virginica o versicolor\n",
            "Es virginica o versicolor\n",
            "Es virginica o versicolor\n",
            "Es virginica o versicolor\n",
            "Es virginica o versicolor\n",
            "Es virginica o versicolor\n",
            "Es virginica o versicolor\n",
            "Es virginica o versicolor\n",
            "Es virginica o versicolor\n",
            "Es virginica o versicolor\n",
            "Es virginica o versicolor\n",
            "Es virginica o versicolor\n",
            "Es virginica o versicolor\n",
            "Es virginica o versicolor\n",
            "Es virginica o versicolor\n",
            "Es virginica o versicolor\n",
            "Es virginica o versicolor\n",
            "Es virginica o versicolor\n",
            "Es virginica o versicolor\n",
            "Es virginica o versicolor\n",
            "Es virginica o versicolor\n",
            "Es virginica o versicolor\n",
            "Es virginica o versicolor\n",
            "Es virginica o versicolor\n",
            "Es virginica o versicolor\n",
            "Es virginica o versicolor\n",
            "Es virginica o versicolor\n",
            "Es virginica o versicolor\n",
            "Es virginica o versicolor\n",
            "Es virginica o versicolor\n",
            "Es virginica o versicolor\n",
            "Es virginica o versicolor\n",
            "Es virginica o versicolor\n",
            "Es virginica o versicolor\n",
            "Es virginica o versicolor\n",
            "Es virginica o versicolor\n",
            "Es virginica o versicolor\n",
            "Es virginica o versicolor\n",
            "Es virginica o versicolor\n",
            "Es virginica o versicolor\n",
            "Es virginica o versicolor\n",
            "Es virginica o versicolor\n",
            "Es virginica o versicolor\n",
            "Es virginica o versicolor\n",
            "Es virginica o versicolor\n",
            "Es virginica o versicolor\n",
            "Es virginica o versicolor\n",
            "Es virginica o versicolor\n",
            "Es virginica o versicolor\n",
            "Es virginica o versicolor\n",
            "Es virginica o versicolor\n",
            "Es virginica o versicolor\n"
          ]
        }
      ]
    },
    {
      "cell_type": "code",
      "source": [
        "print(\"Total setosa :\",setosa)\n"
      ],
      "metadata": {
        "id": "iZJ-BuMrlrOd",
        "colab": {
          "base_uri": "https://localhost:8080/"
        },
        "outputId": "19a0909f-8740-429d-b9f8-b4e6c1a73664"
      },
      "execution_count": 59,
      "outputs": [
        {
          "output_type": "stream",
          "name": "stdout",
          "text": [
            "Total setosa : 50\n"
          ]
        }
      ]
    },
    {
      "cell_type": "code",
      "source": [
        "print(\"Total virginica o versicolor :\",virgover)"
      ],
      "metadata": {
        "id": "8NOUCBkylwl1",
        "colab": {
          "base_uri": "https://localhost:8080/"
        },
        "outputId": "b3421494-c6c9-4052-f712-64e3f948fcef"
      },
      "execution_count": 60,
      "outputs": [
        {
          "output_type": "stream",
          "name": "stdout",
          "text": [
            "Total virginica o versicolor : 100\n"
          ]
        }
      ]
    },
    {
      "cell_type": "code",
      "source": [
        "import numpy as np\n",
        "import matplotlib.pyplot as plt\n",
        "from sklearn import svm, datasets\n",
        "import matplotlib.pyplot as plt\n",
        "# importamos el dataset\n",
        "iris = datasets.load_iris()"
      ],
      "metadata": {
        "id": "zsbUfGIDnEd7"
      },
      "execution_count": 61,
      "outputs": []
    },
    {
      "cell_type": "code",
      "source": [
        "X = iris.data[:, :2]"
      ],
      "metadata": {
        "id": "ZM14__9XnT8U"
      },
      "execution_count": 62,
      "outputs": []
    },
    {
      "cell_type": "code",
      "source": [
        "y = iris.target\n",
        "print(\"=\"*75)\n",
        "print(y)\n",
        "print(\"=\"*75)\n",
        "#tamaño de la malla del graco\n",
        "h = .02\n",
        "# Creando el SVM con sus diferentes métodos\n",
        "# parametro de regulacion SVM\n",
        "C = 1.0\n",
        "#SVM lineal\n",
        "svc = svm.SVC(kernel='linear',  C=C).fit(X, y)\n",
        "print(\"=\"*75)\n",
        "print(\"kernal linear:\",svc)\n",
        "print(\"=\"*75)\n",
        "#SVM rbf\n",
        "rbf_svc = svm.SVC(kernel='rbf',gamma=0.7, C=C).fit(X, y)\n",
        "print(\"=\"*75)\n",
        "print(\"kernal rbf:\",rbf_svc)\n",
        "print(\"=\"*75)\n",
        "#SVM polinomial\n",
        "poly_svc = svm.SVC(kernel='poly', degree=3, C=C).fit(X, y)\n",
        "print(\"=\"*75)\n",
        "print(\"kernal poly:\", poly_svc)\n",
        "lin_svc = svm.LinearSVC(C=C).fit(X, y)\n",
        "# crear el area para graficar\n",
        "x_min, x_max = X[:, 0].min() - 1, X[:, 0].max() + 1\n",
        "y_min, y_max = X[:, 1].min() - 1, X[:, 1].max() + 1\n",
        "xx, yy = np.meshgrid(np.arange(x_min, x_max, h),\n",
        "np.arange(y_min, y_max, h))\n",
        "\n",
        "titles = ['SVC linear kernel',\n",
        "'LinearSVC (linear kernel)',\n",
        "'SVC RBF kernel', 'SVC polynomial']\n",
        "for i, clf in enumerate((svc, lin_svc, rbf_svc, poly_svc)):\n",
        "# Realizando el gráfico\n",
        "#se le asigna un color a cada punto\n",
        "  plt.subplot(2, 2, i+1)\n",
        "  plt.subplots_adjust(wspace=0.4, hspace=0.4)\n",
        "#prediccion en base un modelo\n",
        "  Z = clf.predict(np.c_[xx.ravel(), yy.ravel()])\n",
        "# colocar el resultado dentro de un repositorio\n",
        "  Z = Z.reshape(xx.shape)\n",
        "  plt.contourf(xx, yy, Z, cmap=plt.cm.coolwarm, alpha=0.8)\n",
        "# Graficando tambien los puntos de datos\n",
        "  plt.scatter(X[:, 0], X[:, 1], c=y, cmap=plt.cm.coolwarm)\n",
        "  plt.xlabel('Sepal longitud')\n",
        "  plt.ylabel('Sepal ancho')\n",
        "  plt.xlim(xx.min(), xx.max())\n",
        "  plt.ylim(yy.min(), yy.max())\n",
        "  plt.xticks(())\n",
        "  plt.yticks(())\n",
        "  plt.title(titles[i])\n",
        "#mostramos el grafico\n",
        "plt.show()\n"
      ],
      "metadata": {
        "id": "QsBtmc0qnX82",
        "colab": {
          "base_uri": "https://localhost:8080/",
          "height": 763
        },
        "outputId": "6d0815e2-5d1d-48de-f6ee-f6ef92134c7a"
      },
      "execution_count": 63,
      "outputs": [
        {
          "output_type": "stream",
          "name": "stdout",
          "text": [
            "===========================================================================\n",
            "[0 0 0 0 0 0 0 0 0 0 0 0 0 0 0 0 0 0 0 0 0 0 0 0 0 0 0 0 0 0 0 0 0 0 0 0 0\n",
            " 0 0 0 0 0 0 0 0 0 0 0 0 0 1 1 1 1 1 1 1 1 1 1 1 1 1 1 1 1 1 1 1 1 1 1 1 1\n",
            " 1 1 1 1 1 1 1 1 1 1 1 1 1 1 1 1 1 1 1 1 1 1 1 1 1 1 2 2 2 2 2 2 2 2 2 2 2\n",
            " 2 2 2 2 2 2 2 2 2 2 2 2 2 2 2 2 2 2 2 2 2 2 2 2 2 2 2 2 2 2 2 2 2 2 2 2 2\n",
            " 2 2]\n",
            "===========================================================================\n",
            "===========================================================================\n",
            "kernal linear: SVC(kernel='linear')\n",
            "===========================================================================\n",
            "===========================================================================\n",
            "kernal rbf: SVC(gamma=0.7)\n",
            "===========================================================================\n",
            "===========================================================================\n",
            "kernal poly: SVC(kernel='poly')\n"
          ]
        },
        {
          "output_type": "stream",
          "name": "stderr",
          "text": [
            "/usr/local/lib/python3.10/dist-packages/sklearn/svm/_base.py:1244: ConvergenceWarning: Liblinear failed to converge, increase the number of iterations.\n",
            "  warnings.warn(\n"
          ]
        },
        {
          "output_type": "display_data",
          "data": {
            "text/plain": [
              "<Figure size 640x480 with 4 Axes>"
            ],
            "image/png": "[encoded data removed]"
          },
          "metadata": {}
        }
      ]
    },
    {
      "cell_type": "code",
      "source": [
        "pip install kernaux"
      ],
      "metadata": {
        "id": "k-7GrA9SqksL",
        "colab": {
          "base_uri": "https://localhost:8080/"
        },
        "outputId": "6e538cf4-94b6-494b-cf7f-f7ac48c20ca9"
      },
      "execution_count": 64,
      "outputs": [
        {
          "output_type": "stream",
          "name": "stdout",
          "text": [
            "Looking in indexes: https://pypi.org/simple, https://us-python.pkg.dev/colab-wheels/public/simple/\n",
            "Requirement already satisfied: kernaux in /usr/local/lib/python3.10/dist-packages (0.0.0)\n"
          ]
        }
      ]
    },
    {
      "cell_type": "code",
      "source": [
        "import numpy as np\n",
        "import matplotlib.pyplot as plt\n",
        "from sklearn import svm, datasets\n",
        "import matplotlib.pyplot as plt"
      ],
      "metadata": {
        "id": "fdrG8R_m1nds"
      },
      "execution_count": 65,
      "outputs": []
    },
    {
      "cell_type": "code",
      "source": [
        "data_iris =read_excel(load[\"data.xlsx\"])"
      ],
      "metadata": {
        "id": "Ocm0rUxn1wes"
      },
      "execution_count": 66,
      "outputs": []
    },
    {
      "cell_type": "code",
      "source": [
        "X = iris.data[:, :2]\n",
        "y = iris.target\n",
        "C = 1.0\n",
        "#SVM lineal\n",
        "svc = svm.SVC(kernel='linear', C=C).fit(X, y)\n",
        "print(\"=\"*75)\n",
        "print(\"kernal linear:\",svc)\n",
        "print(\"=\"*75)\n",
        "#SVM rbf\n",
        "rbf_svc = svm.SVC(kernel='rbf',\n",
        "gamma=0.7, C=C).fit(X, y)\n",
        "print(\"=\"*75)\n",
        "print(\"kernal rbf:\",rbf_svc)\n",
        "print(\"=\"*75)\n",
        "#SVM polinomial\n",
        "poly_svc = svm.SVC(kernel='poly',\n",
        "degree=3, C=C).fit(X, y)\n",
        "print(\"=\"*75)\n",
        "print(\"kernal poly:\",poly_svc)\n",
        "lin_svc = svm.LinearSVC(C=C).fit(X, y)"
      ],
      "metadata": {
        "id": "unF1fBlC12ab",
        "colab": {
          "base_uri": "https://localhost:8080/"
        },
        "outputId": "0f9ad615-e745-4c41-bc85-c30d46621eb1"
      },
      "execution_count": 67,
      "outputs": [
        {
          "output_type": "stream",
          "name": "stdout",
          "text": [
            "===========================================================================\n",
            "kernal linear: SVC(kernel='linear')\n",
            "===========================================================================\n",
            "===========================================================================\n",
            "kernal rbf: SVC(gamma=0.7)\n",
            "===========================================================================\n",
            "===========================================================================\n",
            "kernal poly: SVC(kernel='poly')\n"
          ]
        },
        {
          "output_type": "stream",
          "name": "stderr",
          "text": [
            "/usr/local/lib/python3.10/dist-packages/sklearn/svm/_base.py:1244: ConvergenceWarning: Liblinear failed to converge, increase the number of iterations.\n",
            "  warnings.warn(\n"
          ]
        }
      ]
    },
    {
      "cell_type": "code",
      "source": [
        "x_min, x_max = X[:, 0].min() - 1, X[:, 0].max() + 1\n",
        "y_min, y_max = X[:, 1].min() - 1, X[:, 1].max() + 1\n",
        "xx, yy = np.meshgrid(np.arange(x_min, x_max, h),\n",
        "np.arange(y_min, y_max, h))"
      ],
      "metadata": {
        "id": "ZqGDlanx3uiN"
      },
      "execution_count": 68,
      "outputs": []
    },
    {
      "cell_type": "code",
      "source": [
        "titles = ['SVC linear kernel',\n",
        "          'LinearSVC (linear kernel)',\n",
        "          'SVC RBF kernel',\n",
        "          'SVC polynomial']\n",
        "for i, clf in enumerate((svc, lin_svc,\n",
        "                        rbf_svc, poly_svc)):\n",
        "# Realizando el gráfico\n",
        "#se le asigna un color a cada punto\n",
        "  plt.subplot(2, 2, i+1)\n",
        "  plt.subplots_adjust(wspace=0.4, hspace=0.4)\n",
        "  Z = clf.predict(np.c_[xx.ravel(), yy.ravel()])\n",
        "# colocar el resultado dentro de un repositorio\n",
        "  Z = Z.reshape(xx.shape)\n",
        "  plt.contourf(xx, yy, Z,cmap=plt.cm.coolwarm, alpha=0.8)\n",
        "# Graficando tambien los puntos de datos\n",
        "  plt.scatter(X[:, 0], X[:, 1],  c=y, cmap=plt.cm.coolwarm)\n",
        "  plt.xlabel('Sepal longitud')\n",
        "  plt.ylabel('Sepal ancho')\n",
        "  plt.xlim(xx.min(), xx.max())\n",
        "  plt.ylim(yy.min(), yy.max())\n",
        "  plt.xticks(())\n",
        "  plt.yticks(())\n",
        "  plt.title(titles[i])\n",
        "#mostramos el grafico\n",
        "plt.show()"
      ],
      "metadata": {
        "id": "bQb66CzL3zic",
        "colab": {
          "base_uri": "https://localhost:8080/",
          "height": 448
        },
        "outputId": "5071427f-8a64-4562-adbb-7817d052535c"
      },
      "execution_count": 69,
      "outputs": [
        {
          "output_type": "display_data",
          "data": {
            "text/plain": [
              "<Figure size 640x480 with 4 Axes>"
            ],
            "image/png": "[encoded data removed]"
          },
          "metadata": {}
        }
      ]
    },
    {
      "cell_type": "code",
      "source": [
        "import matplotlib.pyplot as plt\n",
        "import numpy as np\n",
        "import tensorflow as tf\n",
        "from sklearn import datasets\n",
        "from tensorflow.python.framework import ops\n",
        "from IPython.display import Image\n",
        "ops.reset_default_graph()"
      ],
      "metadata": {
        "id": "63cix3Tq7y6g"
      },
      "execution_count": 70,
      "outputs": []
    },
    {
      "cell_type": "code",
      "source": [
        "pip install tensorflow"
      ],
      "metadata": {
        "id": "stjdhoVg9q8H",
        "colab": {
          "base_uri": "https://localhost:8080/"
        },
        "outputId": "3dd1ab23-6f5a-4e2c-ce1a-af07f7548919"
      },
      "execution_count": 104,
      "outputs": [
        {
          "output_type": "stream",
          "name": "stdout",
          "text": [
            "Looking in indexes: https://pypi.org/simple, https://us-python.pkg.dev/colab-wheels/public/simple/\n",
            "Requirement already satisfied: tensorflow in /usr/local/lib/python3.10/dist-packages (2.12.0)\n",
            "Requirement already satisfied: opt-einsum>=2.3.2 in /usr/local/lib/python3.10/dist-packages (from tensorflow) (3.3.0)\n",
            "Requirement already satisfied: astunparse>=1.6.0 in /usr/local/lib/python3.10/dist-packages (from tensorflow) (1.6.3)\n",
            "Requirement already satisfied: tensorboard<2.13,>=2.12 in /usr/local/lib/python3.10/dist-packages (from tensorflow) (2.12.2)\n",
            "Requirement already satisfied: termcolor>=1.1.0 in /usr/local/lib/python3.10/dist-packages (from tensorflow) (2.3.0)\n",
            "Requirement already satisfied: six>=1.12.0 in /usr/local/lib/python3.10/dist-packages (from tensorflow) (1.16.0)\n",
            "Requirement already satisfied: packaging in /usr/local/lib/python3.10/dist-packages (from tensorflow) (23.1)\n",
            "Requirement already satisfied: grpcio<2.0,>=1.24.3 in /usr/local/lib/python3.10/dist-packages (from tensorflow) (1.54.0)\n",
            "Requirement already satisfied: absl-py>=1.0.0 in /usr/local/lib/python3.10/dist-packages (from tensorflow) (1.4.0)\n",
            "Requirement already satisfied: jax>=0.3.15 in /usr/local/lib/python3.10/dist-packages (from tensorflow) (0.3.25)\n",
            "Requirement already satisfied: h5py>=2.9.0 in /usr/local/lib/python3.10/dist-packages (from tensorflow) (3.8.0)\n",
            "Requirement already satisfied: protobuf!=4.21.0,!=4.21.1,!=4.21.2,!=4.21.3,!=4.21.4,!=4.21.5,<5.0.0dev,>=3.20.3 in /usr/local/lib/python3.10/dist-packages (from tensorflow) (3.20.3)\n",
            "Requirement already satisfied: wrapt<1.15,>=1.11.0 in /usr/local/lib/python3.10/dist-packages (from tensorflow) (1.14.1)\n",
            "Requirement already satisfied: gast<=0.4.0,>=0.2.1 in /usr/local/lib/python3.10/dist-packages (from tensorflow) (0.4.0)\n",
            "Requirement already satisfied: flatbuffers>=2.0 in /usr/local/lib/python3.10/dist-packages (from tensorflow) (23.3.3)\n",
            "Requirement already satisfied: numpy<1.24,>=1.22 in /usr/local/lib/python3.10/dist-packages (from tensorflow) (1.23.5)\n",
            "Requirement already satisfied: setuptools in /usr/local/lib/python3.10/dist-packages (from tensorflow) (67.7.2)\n",
            "Requirement already satisfied: tensorflow-estimator<2.13,>=2.12.0 in /usr/local/lib/python3.10/dist-packages (from tensorflow) (2.12.0)\n",
            "Requirement already satisfied: typing-extensions>=3.6.6 in /usr/local/lib/python3.10/dist-packages (from tensorflow) (4.5.0)\n",
            "Requirement already satisfied: tensorflow-io-gcs-filesystem>=0.23.1 in /usr/local/lib/python3.10/dist-packages (from tensorflow) (0.32.0)\n",
            "Requirement already satisfied: google-pasta>=0.1.1 in /usr/local/lib/python3.10/dist-packages (from tensorflow) (0.2.0)\n",
            "Requirement already satisfied: keras<2.13,>=2.12.0 in /usr/local/lib/python3.10/dist-packages (from tensorflow) (2.12.0)\n",
            "Requirement already satisfied: libclang>=13.0.0 in /usr/local/lib/python3.10/dist-packages (from tensorflow) (16.0.0)\n",
            "Requirement already satisfied: wheel<1.0,>=0.23.0 in /usr/local/lib/python3.10/dist-packages (from astunparse>=1.6.0->tensorflow) (0.40.0)\n",
            "Requirement already satisfied: scipy>=1.5 in /usr/local/lib/python3.10/dist-packages (from jax>=0.3.15->tensorflow) (1.10.1)\n",
            "Requirement already satisfied: requests<3,>=2.21.0 in /usr/local/lib/python3.10/dist-packages (from tensorboard<2.13,>=2.12->tensorflow) (2.27.1)\n",
            "Requirement already satisfied: werkzeug>=1.0.1 in /usr/local/lib/python3.10/dist-packages (from tensorboard<2.13,>=2.12->tensorflow) (2.3.0)\n",
            "Requirement already satisfied: google-auth-oauthlib<1.1,>=0.5 in /usr/local/lib/python3.10/dist-packages (from tensorboard<2.13,>=2.12->tensorflow) (1.0.0)\n",
            "Requirement already satisfied: google-auth<3,>=1.6.3 in /usr/local/lib/python3.10/dist-packages (from tensorboard<2.13,>=2.12->tensorflow) (2.17.3)\n",
            "Requirement already satisfied: markdown>=2.6.8 in /usr/local/lib/python3.10/dist-packages (from tensorboard<2.13,>=2.12->tensorflow) (3.4.3)\n",
            "Requirement already satisfied: tensorboard-plugin-wit>=1.6.0 in /usr/local/lib/python3.10/dist-packages (from tensorboard<2.13,>=2.12->tensorflow) (1.8.1)\n",
            "Requirement already satisfied: tensorboard-data-server<0.8.0,>=0.7.0 in /usr/local/lib/python3.10/dist-packages (from tensorboard<2.13,>=2.12->tensorflow) (0.7.0)\n",
            "Requirement already satisfied: rsa<5,>=3.1.4 in /usr/local/lib/python3.10/dist-packages (from google-auth<3,>=1.6.3->tensorboard<2.13,>=2.12->tensorflow) (4.9)\n",
            "Requirement already satisfied: cachetools<6.0,>=2.0.0 in /usr/local/lib/python3.10/dist-packages (from google-auth<3,>=1.6.3->tensorboard<2.13,>=2.12->tensorflow) (5.3.0)\n",
            "Requirement already satisfied: pyasn1-modules>=0.2.1 in /usr/local/lib/python3.10/dist-packages (from google-auth<3,>=1.6.3->tensorboard<2.13,>=2.12->tensorflow) (0.3.0)\n",
            "Requirement already satisfied: requests-oauthlib>=0.7.0 in /usr/local/lib/python3.10/dist-packages (from google-auth-oauthlib<1.1,>=0.5->tensorboard<2.13,>=2.12->tensorflow) (1.3.1)\n",
            "Requirement already satisfied: idna<4,>=2.5 in /usr/local/lib/python3.10/dist-packages (from requests<3,>=2.21.0->tensorboard<2.13,>=2.12->tensorflow) (3.4)\n",
            "Requirement already satisfied: charset-normalizer~=2.0.0 in /usr/local/lib/python3.10/dist-packages (from requests<3,>=2.21.0->tensorboard<2.13,>=2.12->tensorflow) (2.0.12)\n",
            "Requirement already satisfied: urllib3<1.27,>=1.21.1 in /usr/local/lib/python3.10/dist-packages (from requests<3,>=2.21.0->tensorboard<2.13,>=2.12->tensorflow) (1.26.15)\n",
            "Requirement already satisfied: certifi>=2017.4.17 in /usr/local/lib/python3.10/dist-packages (from requests<3,>=2.21.0->tensorboard<2.13,>=2.12->tensorflow) (2022.12.7)\n",
            "Requirement already satisfied: MarkupSafe>=2.1.1 in /usr/local/lib/python3.10/dist-packages (from werkzeug>=1.0.1->tensorboard<2.13,>=2.12->tensorflow) (2.1.2)\n",
            "Requirement already satisfied: pyasn1<0.6.0,>=0.4.6 in /usr/local/lib/python3.10/dist-packages (from pyasn1-modules>=0.2.1->google-auth<3,>=1.6.3->tensorboard<2.13,>=2.12->tensorflow) (0.5.0)\n",
            "Requirement already satisfied: oauthlib>=3.0.0 in /usr/local/lib/python3.10/dist-packages (from requests-oauthlib>=0.7.0->google-auth-oauthlib<1.1,>=0.5->tensorboard<2.13,>=2.12->tensorflow) (3.2.2)\n"
          ]
        }
      ]
    },
    {
      "cell_type": "code",
      "source": [
        "mensaje = tf.constant(\"probando tensorflow\")"
      ],
      "metadata": {
        "id": "IDEMsq-68MyX"
      },
      "execution_count": 81,
      "outputs": []
    },
    {
      "cell_type": "code",
      "source": [
        "import matplotlib.pyplot as plt\n",
        "import numpy as np\n",
        "import tensorflow as tf\n",
        "from sklearn import datasets\n",
        "from tensorflow.python.framework import ops\n",
        "from IPython.display import Image\n",
        "ops.reset_default_graph()"
      ],
      "metadata": {
        "id": "qwgw0CgP-Of-"
      },
      "execution_count": 73,
      "outputs": []
    },
    {
      "cell_type": "markdown",
      "source": [
        "pagina 285"
      ],
      "metadata": {
        "id": "QzErfTIHiOBM"
      }
    },
    {
      "cell_type": "code",
      "source": [
        "data_iris =read_excel(load[\"data.xlsx\"])\n",
        "iris = datasets.load_iris()\n",
        "valores = np.array([[x[0],x[1],x[2], x[3]] for x in iris.data])\n",
        "print(\"=\"*10,\"DATOS\",\"=\"*10)\n",
        "print(valores)\n",
        "print(\"=\"*10, \"DATOS\", \"=\"*10)\n",
        "print(\"cantidad de item :\",end=\"\")\n",
        "print(len(iris.target))\n",
        "print(iris.target)\n",
        "print(iris.keys())"
      ],
      "metadata": {
        "id": "637DzyDe-cQt",
        "colab": {
          "base_uri": "https://localhost:8080/"
        },
        "outputId": "3a4825ed-d307-49ec-c8e0-ac7e2eeb13f5"
      },
      "execution_count": 89,
      "outputs": [
        {
          "output_type": "stream",
          "name": "stdout",
          "text": [
            "========== DATOS ==========\n",
            "[[5.1 3.5 1.4 0.2]\n",
            " [4.9 3.  1.4 0.2]\n",
            " [4.7 3.2 1.3 0.2]\n",
            " [4.6 3.1 1.5 0.2]\n",
            " [5.  3.6 1.4 0.2]\n",
            " [5.4 3.9 1.7 0.4]\n",
            " [4.6 3.4 1.4 0.3]\n",
            " [5.  3.4 1.5 0.2]\n",
            " [4.4 2.9 1.4 0.2]\n",
            " [4.9 3.1 1.5 0.1]\n",
            " [5.4 3.7 1.5 0.2]\n",
            " [4.8 3.4 1.6 0.2]\n",
            " [4.8 3.  1.4 0.1]\n",
            " [4.3 3.  1.1 0.1]\n",
            " [5.8 4.  1.2 0.2]\n",
            " [5.7 4.4 1.5 0.4]\n",
            " [5.4 3.9 1.3 0.4]\n",
            " [5.1 3.5 1.4 0.3]\n",
            " [5.7 3.8 1.7 0.3]\n",
            " [5.1 3.8 1.5 0.3]\n",
            " [5.4 3.4 1.7 0.2]\n",
            " [5.1 3.7 1.5 0.4]\n",
            " [4.6 3.6 1.  0.2]\n",
            " [5.1 3.3 1.7 0.5]\n",
            " [4.8 3.4 1.9 0.2]\n",
            " [5.  3.  1.6 0.2]\n",
            " [5.  3.4 1.6 0.4]\n",
            " [5.2 3.5 1.5 0.2]\n",
            " [5.2 3.4 1.4 0.2]\n",
            " [4.7 3.2 1.6 0.2]\n",
            " [4.8 3.1 1.6 0.2]\n",
            " [5.4 3.4 1.5 0.4]\n",
            " [5.2 4.1 1.5 0.1]\n",
            " [5.5 4.2 1.4 0.2]\n",
            " [4.9 3.1 1.5 0.2]\n",
            " [5.  3.2 1.2 0.2]\n",
            " [5.5 3.5 1.3 0.2]\n",
            " [4.9 3.6 1.4 0.1]\n",
            " [4.4 3.  1.3 0.2]\n",
            " [5.1 3.4 1.5 0.2]\n",
            " [5.  3.5 1.3 0.3]\n",
            " [4.5 2.3 1.3 0.3]\n",
            " [4.4 3.2 1.3 0.2]\n",
            " [5.  3.5 1.6 0.6]\n",
            " [5.1 3.8 1.9 0.4]\n",
            " [4.8 3.  1.4 0.3]\n",
            " [5.1 3.8 1.6 0.2]\n",
            " [4.6 3.2 1.4 0.2]\n",
            " [5.3 3.7 1.5 0.2]\n",
            " [5.  3.3 1.4 0.2]\n",
            " [7.  3.2 4.7 1.4]\n",
            " [6.4 3.2 4.5 1.5]\n",
            " [6.9 3.1 4.9 1.5]\n",
            " [5.5 2.3 4.  1.3]\n",
            " [6.5 2.8 4.6 1.5]\n",
            " [5.7 2.8 4.5 1.3]\n",
            " [6.3 3.3 4.7 1.6]\n",
            " [4.9 2.4 3.3 1. ]\n",
            " [6.6 2.9 4.6 1.3]\n",
            " [5.2 2.7 3.9 1.4]\n",
            " [5.  2.  3.5 1. ]\n",
            " [5.9 3.  4.2 1.5]\n",
            " [6.  2.2 4.  1. ]\n",
            " [6.1 2.9 4.7 1.4]\n",
            " [5.6 2.9 3.6 1.3]\n",
            " [6.7 3.1 4.4 1.4]\n",
            " [5.6 3.  4.5 1.5]\n",
            " [5.8 2.7 4.1 1. ]\n",
            " [6.2 2.2 4.5 1.5]\n",
            " [5.6 2.5 3.9 1.1]\n",
            " [5.9 3.2 4.8 1.8]\n",
            " [6.1 2.8 4.  1.3]\n",
            " [6.3 2.5 4.9 1.5]\n",
            " [6.1 2.8 4.7 1.2]\n",
            " [6.4 2.9 4.3 1.3]\n",
            " [6.6 3.  4.4 1.4]\n",
            " [6.8 2.8 4.8 1.4]\n",
            " [6.7 3.  5.  1.7]\n",
            " [6.  2.9 4.5 1.5]\n",
            " [5.7 2.6 3.5 1. ]\n",
            " [5.5 2.4 3.8 1.1]\n",
            " [5.5 2.4 3.7 1. ]\n",
            " [5.8 2.7 3.9 1.2]\n",
            " [6.  2.7 5.1 1.6]\n",
            " [5.4 3.  4.5 1.5]\n",
            " [6.  3.4 4.5 1.6]\n",
            " [6.7 3.1 4.7 1.5]\n",
            " [6.3 2.3 4.4 1.3]\n",
            " [5.6 3.  4.1 1.3]\n",
            " [5.5 2.5 4.  1.3]\n",
            " [5.5 2.6 4.4 1.2]\n",
            " [6.1 3.  4.6 1.4]\n",
            " [5.8 2.6 4.  1.2]\n",
            " [5.  2.3 3.3 1. ]\n",
            " [5.6 2.7 4.2 1.3]\n",
            " [5.7 3.  4.2 1.2]\n",
            " [5.7 2.9 4.2 1.3]\n",
            " [6.2 2.9 4.3 1.3]\n",
            " [5.1 2.5 3.  1.1]\n",
            " [5.7 2.8 4.1 1.3]\n",
            " [6.3 3.3 6.  2.5]\n",
            " [5.8 2.7 5.1 1.9]\n",
            " [7.1 3.  5.9 2.1]\n",
            " [6.3 2.9 5.6 1.8]\n",
            " [6.5 3.  5.8 2.2]\n",
            " [7.6 3.  6.6 2.1]\n",
            " [4.9 2.5 4.5 1.7]\n",
            " [7.3 2.9 6.3 1.8]\n",
            " [6.7 2.5 5.8 1.8]\n",
            " [7.2 3.6 6.1 2.5]\n",
            " [6.5 3.2 5.1 2. ]\n",
            " [6.4 2.7 5.3 1.9]\n",
            " [6.8 3.  5.5 2.1]\n",
            " [5.7 2.5 5.  2. ]\n",
            " [5.8 2.8 5.1 2.4]\n",
            " [6.4 3.2 5.3 2.3]\n",
            " [6.5 3.  5.5 1.8]\n",
            " [7.7 3.8 6.7 2.2]\n",
            " [7.7 2.6 6.9 2.3]\n",
            " [6.  2.2 5.  1.5]\n",
            " [6.9 3.2 5.7 2.3]\n",
            " [5.6 2.8 4.9 2. ]\n",
            " [7.7 2.8 6.7 2. ]\n",
            " [6.3 2.7 4.9 1.8]\n",
            " [6.7 3.3 5.7 2.1]\n",
            " [7.2 3.2 6.  1.8]\n",
            " [6.2 2.8 4.8 1.8]\n",
            " [6.1 3.  4.9 1.8]\n",
            " [6.4 2.8 5.6 2.1]\n",
            " [7.2 3.  5.8 1.6]\n",
            " [7.4 2.8 6.1 1.9]\n",
            " [7.9 3.8 6.4 2. ]\n",
            " [6.4 2.8 5.6 2.2]\n",
            " [6.3 2.8 5.1 1.5]\n",
            " [6.1 2.6 5.6 1.4]\n",
            " [7.7 3.  6.1 2.3]\n",
            " [6.3 3.4 5.6 2.4]\n",
            " [6.4 3.1 5.5 1.8]\n",
            " [6.  3.  4.8 1.8]\n",
            " [6.9 3.1 5.4 2.1]\n",
            " [6.7 3.1 5.6 2.4]\n",
            " [6.9 3.1 5.1 2.3]\n",
            " [5.8 2.7 5.1 1.9]\n",
            " [6.8 3.2 5.9 2.3]\n",
            " [6.7 3.3 5.7 2.5]\n",
            " [6.7 3.  5.2 2.3]\n",
            " [6.3 2.5 5.  1.9]\n",
            " [6.5 3.  5.2 2. ]\n",
            " [6.2 3.4 5.4 2.3]\n",
            " [5.9 3.  5.1 1.8]]\n",
            "========== DATOS ==========\n",
            "cantidad de item :150\n",
            "[0 0 0 0 0 0 0 0 0 0 0 0 0 0 0 0 0 0 0 0 0 0 0 0 0 0 0 0 0 0 0 0 0 0 0 0 0\n",
            " 0 0 0 0 0 0 0 0 0 0 0 0 0 1 1 1 1 1 1 1 1 1 1 1 1 1 1 1 1 1 1 1 1 1 1 1 1\n",
            " 1 1 1 1 1 1 1 1 1 1 1 1 1 1 1 1 1 1 1 1 1 1 1 1 1 1 2 2 2 2 2 2 2 2 2 2 2\n",
            " 2 2 2 2 2 2 2 2 2 2 2 2 2 2 2 2 2 2 2 2 2 2 2 2 2 2 2 2 2 2 2 2 2 2 2 2 2\n",
            " 2 2]\n",
            "dict_keys(['data', 'target', 'frame', 'target_names', 'DESCR', 'feature_names', 'filename', 'data_module'])\n"
          ]
        }
      ]
    },
    {
      "cell_type": "code",
      "source": [
        "x_vals = np.array([[x[0], x[3]] for x in iris.data])"
      ],
      "metadata": {
        "id": "-HCY5VFji-BI"
      },
      "execution_count": 90,
      "outputs": []
    },
    {
      "cell_type": "code",
      "source": [
        "y_vals = np.array([1 if y == 0 else -1 for y in iris.target])\n",
        "print(y_vals)"
      ],
      "metadata": {
        "colab": {
          "base_uri": "https://localhost:8080/"
        },
        "id": "TYTfq-N4jBnK",
        "outputId": "f8b78519-62e5-4717-f406-829ec00284f6"
      },
      "execution_count": 91,
      "outputs": [
        {
          "output_type": "stream",
          "name": "stdout",
          "text": [
            "[ 1  1  1  1  1  1  1  1  1  1  1  1  1  1  1  1  1  1  1  1  1  1  1  1\n",
            "  1  1  1  1  1  1  1  1  1  1  1  1  1  1  1  1  1  1  1  1  1  1  1  1\n",
            "  1  1 -1 -1 -1 -1 -1 -1 -1 -1 -1 -1 -1 -1 -1 -1 -1 -1 -1 -1 -1 -1 -1 -1\n",
            " -1 -1 -1 -1 -1 -1 -1 -1 -1 -1 -1 -1 -1 -1 -1 -1 -1 -1 -1 -1 -1 -1 -1 -1\n",
            " -1 -1 -1 -1 -1 -1 -1 -1 -1 -1 -1 -1 -1 -1 -1 -1 -1 -1 -1 -1 -1 -1 -1 -1\n",
            " -1 -1 -1 -1 -1 -1 -1 -1 -1 -1 -1 -1 -1 -1 -1 -1 -1 -1 -1 -1 -1 -1 -1 -1\n",
            " -1 -1 -1 -1 -1 -1]\n"
          ]
        }
      ]
    },
    {
      "cell_type": "code",
      "source": [
        "borrador= np.random.choice(150,round(150*0.8),replace=False)\n",
        "print(borrador)\n",
        "print(\"longitud :\",len(borrador))"
      ],
      "metadata": {
        "colab": {
          "base_uri": "https://localhost:8080/"
        },
        "id": "kGpVX8ZvjGQF",
        "outputId": "9a7a6580-7576-495d-e47e-d2984802d27b"
      },
      "execution_count": 94,
      "outputs": [
        {
          "output_type": "stream",
          "name": "stdout",
          "text": [
            "[ 66 106 118 139   6  34   4  43  87  85 117 144  58  71  39 102  28  81\n",
            "  75 122 116  45  36  26  84  22  49  61 114  19  90   0  23   9  99  60\n",
            "  42   3 148  94  24  78  86  53 147 131  62  32 129 104  74 101  50  10\n",
            " 145  65  17  21 113 132  82 103 140 105  64  76 137  20 128  63  88  83\n",
            "  69 130  57 136 107  40  11 138  29   7  51 100  91  70  93  31  79 143\n",
            " 115  52  15 135  30 149  18 142  35  46  92 123  96 127  72   5 141  25\n",
            " 125  80 109 112  98  38  89  37 146 133  44 108]\n",
            "longitud : 120\n"
          ]
        }
      ]
    },
    {
      "cell_type": "code",
      "source": [
        "train_indices = np.random.choice(len(x_vals),round(len(x_vals)*0.8),replace=False)"
      ],
      "metadata": {
        "id": "wrp_pjtLjUJ-"
      },
      "execution_count": 95,
      "outputs": []
    },
    {
      "cell_type": "code",
      "source": [
        "batch_size = 100\n",
        "# Inicializar marcadores de posición\n",
        "x_data = tf.compat.v1.placeholder(shape=[None, 2], dtype=tf.float32)\n",
        "y_target = tf.compat.v1.placeholder(shape=[None, 1], dtype=tf.float32)\n",
        "# Crear variables para SVM\n",
        "A = tf.Variable(tf.compat.v1.random_normal(shape=[2, 1]))\n",
        "b = tf.Variable(tf.compat.v1.random_normal(shape=[1, 1]))\n"
      ],
      "metadata": {
        "id": "SRK4UKV3jaFl"
      },
      "execution_count": 108,
      "outputs": []
    },
    {
      "cell_type": "code",
      "source": [
        "model_output = tf.subtract(tf.matmul(x_data, A), b)\n",
        "# Declare vector L2 función ‘al cuadrado\n",
        "l2_norm = tf.reduce_sum(tf.square(A))\n",
        "# Declare función de pérdida\n",
        "# Pérdida = max (0, 1-pred * real) + alfa * L2_norm (A) ^ 2\n",
        "alpha = tf.constant([0.01])\n",
        "# Término de margen en pérdida\n",
        "classification_term = tf.reduce_mean(tf.maximum(0., tf.subtract(1., tf.multiply(model_output,\n",
        "y_target))))\n",
        "# Poner términos juntos\n",
        "loss = tf.add(classification_term, tf.multiply(alpha, l2_norm))"
      ],
      "metadata": {
        "id": "_J9xlkCFmaia"
      },
      "execution_count": 110,
      "outputs": []
    },
    {
      "cell_type": "code",
      "source": [
        "# Declare la función de predicción\n",
        "prediction = tf.sign(model_output)\n",
        "accuracy = tf.reduce_mean(tf.cast(tf.equal(prediction, y_target), tf.float32))\n",
        "# optimizacion\n",
        "my_opt = tf.compat.v1.train.GradientDescentOptimizer(0.01)\n",
        "train_step = my_opt.minimize(loss)\n",
        "# inicialziacion de variables\n",
        "init = tf.compat.v1.global_variables_initializer()\n",
        "sess.run(init)"
      ],
      "metadata": {
        "colab": {
          "base_uri": "https://localhost:8080/",
          "height": 203
        },
        "id": "2a65Wv9GmuLN",
        "outputId": "ed086e54-ffe6-4244-debc-9c7f68c27170"
      },
      "execution_count": 115,
      "outputs": [
        {
          "output_type": "error",
          "ename": "AttributeError",
          "evalue": "ignored",
          "traceback": [
            "\u001b[0;31m---------------------------------------------------------------------------\u001b[0m",
            "\u001b[0;31mAttributeError\u001b[0m                            Traceback (most recent call last)",
            "\u001b[0;32m<ipython-input-115-aff3c4c44de5>\u001b[0m in \u001b[0;36m<cell line: 9>\u001b[0;34m()\u001b[0m\n\u001b[1;32m      7\u001b[0m \u001b[0;31m# inicialziacion de variables\u001b[0m\u001b[0;34m\u001b[0m\u001b[0;34m\u001b[0m\u001b[0m\n\u001b[1;32m      8\u001b[0m \u001b[0minit\u001b[0m \u001b[0;34m=\u001b[0m \u001b[0mtf\u001b[0m\u001b[0;34m.\u001b[0m\u001b[0mcompat\u001b[0m\u001b[0;34m.\u001b[0m\u001b[0mv1\u001b[0m\u001b[0;34m.\u001b[0m\u001b[0mglobal_variables_initializer\u001b[0m\u001b[0;34m(\u001b[0m\u001b[0;34m)\u001b[0m\u001b[0;34m\u001b[0m\u001b[0;34m\u001b[0m\u001b[0m\n\u001b[0;32m----> 9\u001b[0;31m \u001b[0mtf\u001b[0m\u001b[0;34m.\u001b[0m\u001b[0mcompat\u001b[0m\u001b[0;34m.\u001b[0m\u001b[0mv1\u001b[0m\u001b[0;34m.\u001b[0m\u001b[0msess\u001b[0m\u001b[0;34m.\u001b[0m\u001b[0mrun\u001b[0m\u001b[0;34m(\u001b[0m\u001b[0minit\u001b[0m\u001b[0;34m)\u001b[0m\u001b[0;34m\u001b[0m\u001b[0;34m\u001b[0m\u001b[0m\n\u001b[0m",
            "\u001b[0;31mAttributeError\u001b[0m: module 'tensorflow.compat.v1' has no attribute 'sess'"
          ]
        }
      ]
    }
  ]
}