{
  "nbformat": 4,
  "nbformat_minor": 0,
  "metadata": {
    "colab": {
      "provenance": [],
      "include_colab_link": true
    },
    "kernelspec": {
      "name": "python3",
      "display_name": "Python 3"
    },
    "language_info": {
      "name": "python"
    }
  },
  "cells": [
    {
      "cell_type": "markdown",
      "metadata": {
        "id": "view-in-github",
        "colab_type": "text"
      },
      "source": [
        "<a href=\"https://colab.research.google.com/github/ISRAEL-MP/Practica0_Comentario_codigo_-limpio/blob/main/Copia_de_Training_an_Image_Classification_Model_in_PyTorch.ipynb\" target=\"_parent\"><img src=\"https://colab.research.google.com/assets/colab-badge.svg\" alt=\"Open In Colab\"/></a>"
      ]
    },
    {
      "cell_type": "markdown",
      "metadata": {
        "id": "lKU8kmSs65xv"
      },
      "source": [
        "# ***Training an Image Classification Model in PyTorch***\n",
        "\n"
      ]
    },
    {
      "cell_type": "markdown",
      "metadata": {
        "id": "3zK9b4yiMRzB"
      },
      "source": [
        "#### The primary objective for Hub is to enable users to manage their data more easily so they can train better ML models. This tutorial shows you how to train a simple image classification model while streaming data from a Hub dataset stored in the cloud."
      ]
    },
    {
      "cell_type": "markdown",
      "metadata": {
        "id": "3UseHLcoRIYz"
      },
      "source": [
        "## Install Hub"
      ]
    },
    {
      "cell_type": "code",
      "metadata": {
        "id": "l5mOffq5RN-T"
      },
      "source": [
        "from IPython.display import clear_output\n",
        "!pip3 install hub\n",
        "clear_output()"
      ],
      "execution_count": null,
      "outputs": []
    },
    {
      "cell_type": "markdown",
      "metadata": {
        "id": "7wGo53ndMTCB"
      },
      "source": [
        "## Data Preprocessing\n"
      ]
    },
    {
      "cell_type": "markdown",
      "metadata": {
        "id": "52h9xKujOJFs"
      },
      "source": [
        "The first step is to select a dataset for training. This tutorial uses the [Fashion MNIST](https://github.com/zalandoresearch/fashion-mnist) dataset that has already been converted into hub format. It is a simple image classification dataset that categorizes images by clothing type (trouser, shirt, etc.)"
      ]
    },
    {
      "cell_type": "code",
      "metadata": {
        "id": "neD2jhKDQ5WD",
        "outputId": "2ead343e-4b0b-4e10-ee25-7dac6313e8ad",
        "colab": {
          "base_uri": "https://localhost:8080/"
        }
      },
      "source": [
        "import hub\n",
        "from PIL import Image\n",
        "import numpy as np\n",
        "import os, time\n",
        "import torch\n",
        "from torchvision import datasets, transforms, models\n",
        "\n",
        "ds_train = hub.load('hub://activeloop/fashion-mnist-train')\n",
        "ds_test = hub.load('hub://activeloop/fashion-mnist-test')"
      ],
      "execution_count": null,
      "outputs": [
        {
          "output_type": "stream",
          "name": "stderr",
          "text": [
            "\\"
          ]
        },
        {
          "output_type": "stream",
          "name": "stdout",
          "text": [
            "This dataset can be visualized in Jupyter Notebook by ds.visualize() or at https://app.activeloop.ai/activeloop/fashion-mnist-train\n",
            "\n"
          ]
        },
        {
          "output_type": "stream",
          "name": "stderr",
          "text": [
            "\\"
          ]
        },
        {
          "output_type": "stream",
          "name": "stdout",
          "text": [
            "hub://activeloop/fashion-mnist-train loaded successfully.\n",
            "\n"
          ]
        },
        {
          "output_type": "stream",
          "name": "stderr",
          "text": [
            "\r \r\r \r"
          ]
        },
        {
          "output_type": "stream",
          "name": "stdout",
          "text": [
            "This dataset can be visualized in Jupyter Notebook by ds.visualize() or at https://app.activeloop.ai/activeloop/fashion-mnist-test\n",
            "\n"
          ]
        },
        {
          "output_type": "stream",
          "name": "stderr",
          "text": [
            "\\"
          ]
        },
        {
          "output_type": "stream",
          "name": "stdout",
          "text": [
            "hub://activeloop/fashion-mnist-test loaded successfully.\n",
            "\n"
          ]
        },
        {
          "output_type": "stream",
          "name": "stderr",
          "text": [
            "\r \r\r \r"
          ]
        }
      ]
    },
    {
      "cell_type": "code",
      "metadata": {
        "id": "m0jtotSNzeJ0",
        "outputId": "5209c080-56de-48b3-c10f-2a702c992f9a",
        "colab": {
          "base_uri": "https://localhost:8080/",
          "height": 117
        }
      },
      "source": [
        "Image.fromarray(ds_train.images[0].numpy()).resize((100,100))"
      ],
      "execution_count": null,
      "outputs": [
        {
          "output_type": "execute_result",
          "data": {
            "text/plain": [
              "<PIL.Image.Image image mode=L size=100x100 at 0x7FCB6F22B010>"
            ],
            "image/png": "[encoded data removed]"
          },
          "metadata": {},
          "execution_count": 11
        }
      ]
    },
    {
      "cell_type": "code",
      "metadata": {
        "id": "jPSz9kml03Aa",
        "outputId": "825f6a34-2819-490d-f4ab-321908aa78a8",
        "colab": {
          "base_uri": "https://localhost:8080/"
        }
      },
      "source": [
        "print(ds_train.labels.info.class_names[ds_train.labels[0].numpy()[0]])"
      ],
      "execution_count": null,
      "outputs": [
        {
          "output_type": "stream",
          "name": "stdout",
          "text": [
            "Ankle boot\n"
          ]
        }
      ]
    },
    {
      "cell_type": "markdown",
      "metadata": {
        "id": "Np5fIbViHlCu"
      },
      "source": [
        "The next step is to define a transformation function that will process the data and convert it into a format that can be passed into a deep learning model. In this particular example, `torchvision.transforms` is used as a part of the transformation pipeline that performs operations such as normalization and image augmentation (rotation)."
      ]
    },
    {
      "cell_type": "code",
      "metadata": {
        "id": "WqdWgumwQ1d6"
      },
      "source": [
        "tform = transforms.Compose([\n",
        "    transforms.ToPILImage(), # Must convert to PIL image for subsequent operations to run\n",
        "    transforms.RandomRotation(20), # Image augmentation\n",
        "    transforms.ToTensor(), # Must convert to pytorch tensor for subsequent operations to run\n",
        "    transforms.Normalize([0.5], [0.5]),\n",
        "])"
      ],
      "execution_count": null,
      "outputs": []
    },
    {
      "cell_type": "markdown",
      "metadata": {
        "id": "DGmWr44PIQMk"
      },
      "source": [
        "You can now create a pytorch dataloader that connects the Hub dataset to the PyTorch model using the provided method `ds.pytorch()`. This method automatically applies the transformation function, takes care of random shuffling (if desired), and converts hub data to PyTorch tensors. The `num_workers` parameter can be used to parallelize data preprocessing, which is critical for ensuring that preprocessing does not bottleneck the overall training workflow.\n",
        "\n",
        "The `transform` input is a dictionary where the `key` is the tensor name and the `value` is the transformation function that should be applied to that tensor. If a specific tensor's data does not need to be returned, it should be omitted from the keys. If a tensor's data does not need to be modified during preprocessing, the transformation function is set as `None`."
      ]
    },
    {
      "cell_type": "code",
      "metadata": {
        "id": "MeiU4LobROdE",
        "outputId": "b9180ca2-8d88-4771-e017-87d5e782fc19",
        "colab": {
          "base_uri": "https://localhost:8080/"
        }
      },
      "source": [
        "batch_size = 32\n",
        "\n",
        "train_loader = ds_train.pytorch(num_workers = 0, shuffle = True, transform = {'images': tform, 'labels': None}, batch_size = batch_size)\n",
        "test_loader = ds_test.pytorch(num_workers = 0, transform = {'images': tform, 'labels': None}, batch_size = batch_size)"
      ],
      "execution_count": null,
      "outputs": [
        {
          "output_type": "stream",
          "name": "stderr",
          "text": [
            "/usr/local/lib/python3.10/dist-packages/deeplake/integrations/pytorch/common.py:121: UserWarning: Decode method for tensors ['images'] is defaulting to numpy. Please consider specifying a decode_method in .pytorch() that maximizes the data preprocessing speed based on your transformation.\n",
            "  warnings.warn(\n"
          ]
        }
      ]
    },
    {
      "cell_type": "code",
      "metadata": {
        "id": "2Dco8HW9ROXS"
      },
      "source": [
        "# device = torch.device(\"cuda\" if torch.cuda.is_available() else \"cpu\")\n",
        "device = torch.device(\"cpu\")"
      ],
      "execution_count": null,
      "outputs": []
    },
    {
      "cell_type": "markdown",
      "metadata": {
        "id": "Snt5b6qwIZQ_"
      },
      "source": [
        "## Model Definition"
      ]
    },
    {
      "cell_type": "markdown",
      "metadata": {
        "id": "e5LZrDU4I1GO"
      },
      "source": [
        "This tutorial uses a pre-trained [ResNet18](https://pytorch.org/hub/pytorch_vision_resnet/) neural network from the torchvision.models module, converted to a single-channel network for grayscale images."
      ]
    },
    {
      "cell_type": "code",
      "metadata": {
        "id": "GRBRaROLROUf",
        "outputId": "e4df29ed-3eab-4b9e-f2ec-0de8689a2073",
        "colab": {
          "base_uri": "https://localhost:8080/"
        }
      },
      "source": [
        "# Simple model can be trained on a CPU\n",
        "device = torch.device(\"cpu\")\n",
        "\n",
        "net = models.resnet18(pretrained=True)\n",
        "# Convert model to grayscale\n",
        "net.conv1 = torch.nn.Conv2d(1, 64, kernel_size=7, stride=2, padding=3, bias=False)\n",
        "\n",
        "# Update the fully connected layer based on the number of classes in the dataset\n",
        "net.fc = torch.nn.Linear(net.fc.in_features, len(ds_train.labels.info.class_names))\n",
        "\n",
        "net.to(device)\n",
        "\n",
        "# Specity the loss function and optimizer\n",
        "criterion = torch.nn.CrossEntropyLoss()\n",
        "optimizer = torch.optim.SGD(net.parameters(), lr=0.001, momentum=0.1)"
      ],
      "execution_count": null,
      "outputs": [
        {
          "output_type": "stream",
          "name": "stderr",
          "text": [
            "/usr/local/lib/python3.10/dist-packages/torchvision/models/_utils.py:208: UserWarning: The parameter 'pretrained' is deprecated since 0.13 and may be removed in the future, please use 'weights' instead.\n",
            "  warnings.warn(\n",
            "/usr/local/lib/python3.10/dist-packages/torchvision/models/_utils.py:223: UserWarning: Arguments other than a weight enum or `None` for 'weights' are deprecated since 0.13 and may be removed in the future. The current behavior is equivalent to passing `weights=ResNet18_Weights.IMAGENET1K_V1`. You can also use `weights=ResNet18_Weights.DEFAULT` to get the most up-to-date weights.\n",
            "  warnings.warn(msg)\n",
            "Downloading: \"https://download.pytorch.org/models/resnet18-f37072fd.pth\" to /root/.cache/torch/hub/checkpoints/resnet18-f37072fd.pth\n",
            "100%|██████████| 44.7M/44.7M [00:00<00:00, 306MB/s]\n"
          ]
        }
      ]
    },
    {
      "cell_type": "markdown",
      "metadata": {
        "id": "8sVS5lTFI-gZ"
      },
      "source": [
        "## Training the Model"
      ]
    },
    {
      "cell_type": "markdown",
      "metadata": {
        "id": "V65Xr8aBJCUL"
      },
      "source": [
        "Helper functions for training and testing the model are defined. Note that the dictionary that is returned by the transform function in the PyTorch dataloader is access here and is passed into the model."
      ]
    },
    {
      "cell_type": "code",
      "metadata": {
        "id": "W6cQJkHeJGtk"
      },
      "source": [
        "def train_model(loader, test_loader, model, epochs = 1):\n",
        "    for epoch in range(epochs):  # loop over the dataset multiple times\n",
        "\n",
        "        # Zero the performance stats for each epoch\n",
        "        running_loss = 0.0\n",
        "        start_time = time.time()\n",
        "        total = 0\n",
        "        correct = 0\n",
        "        \n",
        "        for i, data in enumerate(loader):\n",
        "            # get the inputs; data is a list of [inputs, labels]\n",
        "            inputs = data['images']\n",
        "            labels = torch.squeeze(data['labels'])\n",
        "\n",
        "            inputs = inputs.to(device)\n",
        "            labels = labels.to(device)\n",
        "\n",
        "            # zero the parameter gradients\n",
        "            optimizer.zero_grad()\n",
        "\n",
        "            # forward + backward + optimize\n",
        "            outputs = model(inputs.float())\n",
        "            loss = criterion(outputs, labels)\n",
        "            loss.backward()\n",
        "            optimizer.step()\n",
        "            \n",
        "            _, predicted = torch.max(outputs.data, 1)\n",
        "            total += labels.size(0)\n",
        "            correct += (predicted == labels).sum().item()\n",
        "            accuracy = 100 * correct / total\n",
        "        \n",
        "            # Print performance statistics\n",
        "            running_loss += loss.item()\n",
        "            if i % 10 == 0:    # print every 10 batches\n",
        "                batch_time = time.time()\n",
        "                speed = (i+1)/(batch_time-start_time)\n",
        "                print('[%d, %5d] loss: %.3f, speed: %.2f, accuracy: %.2f %%' %\n",
        "                      (epoch + 1, i, running_loss, speed, accuracy))\n",
        "\n",
        "                running_loss = 0.0\n",
        "        \n",
        "        print('Testing Model Performance')\n",
        "        test_model(test_loader, model)\n",
        "\n",
        "    print('Finished Training')\n",
        "    \n",
        "    \n",
        "def test_model(loader, model):\n",
        "    start_time = time.time()\n",
        "    total = 0\n",
        "    correct = 0\n",
        "    with torch.no_grad():\n",
        "        for i, data in enumerate(loader):\n",
        "            # get the inputs; data is a list of [inputs, labels]\n",
        "            inputs = data['images']\n",
        "            labels = torch.squeeze(data['labels'])\n",
        "\n",
        "            inputs = inputs.to(device)\n",
        "            labels = labels.to(device)\n",
        "\n",
        "            # zero the parameter gradients\n",
        "            optimizer.zero_grad()\n",
        "\n",
        "            # forward + backward + optimize\n",
        "            outputs = model(inputs.float())\n",
        "\n",
        "            _, predicted = torch.max(outputs.data, 1)\n",
        "            total += labels.size(0)\n",
        "            correct += (predicted == labels).sum().item()\n",
        "        accuracy = 100 * correct / total\n",
        "            \n",
        "        print('Finished Testing')\n",
        "        print('Testing accuracy: %.1f %%' %(accuracy))"
      ],
      "execution_count": null,
      "outputs": []
    },
    {
      "cell_type": "markdown",
      "metadata": {
        "id": "vQWzFjzLJINu"
      },
      "source": [
        "The model and data are ready for training. Let's gooooooooooo 🚀!"
      ]
    },
    {
      "cell_type": "code",
      "metadata": {
        "id": "fMhm4VjDRf7i",
        "outputId": "4dcf9499-5681-4374-90ae-ec68008f6c31",
        "colab": {
          "base_uri": "https://localhost:8080/",
          "height": 1000
        }
      },
      "source": [
        "train_model(train_loader, test_loader, net, epochs = 1)"
      ],
      "execution_count": null,
      "outputs": [
        {
          "output_type": "stream",
          "name": "stdout",
          "text": [
            "[1,     0] loss: 2.688, speed: 0.24, accuracy: 12.50 %\n",
            "[1,    10] loss: 24.194, speed: 1.45, accuracy: 15.34 %\n",
            "[1,    20] loss: 21.594, speed: 1.78, accuracy: 20.09 %\n",
            "[1,    30] loss: 19.115, speed: 2.04, accuracy: 23.99 %\n",
            "[1,    40] loss: 18.241, speed: 2.21, accuracy: 26.91 %\n",
            "[1,    50] loss: 16.201, speed: 2.29, accuracy: 30.76 %\n",
            "[1,    60] loss: 15.106, speed: 2.33, accuracy: 34.53 %\n",
            "[1,    70] loss: 14.269, speed: 2.40, accuracy: 37.37 %\n",
            "[1,    80] loss: 14.340, speed: 2.46, accuracy: 39.27 %\n",
            "[1,    90] loss: 14.698, speed: 2.47, accuracy: 40.52 %\n",
            "[1,   100] loss: 14.621, speed: 2.50, accuracy: 41.68 %\n",
            "[1,   110] loss: 12.482, speed: 2.53, accuracy: 43.24 %\n",
            "[1,   120] loss: 12.277, speed: 2.56, accuracy: 44.71 %\n",
            "[1,   130] loss: 12.063, speed: 2.54, accuracy: 45.78 %\n",
            "[1,   140] loss: 11.264, speed: 2.57, accuracy: 47.07 %\n",
            "[1,   150] loss: 12.648, speed: 2.59, accuracy: 47.74 %\n",
            "[1,   160] loss: 11.616, speed: 2.61, accuracy: 48.54 %\n",
            "[1,   170] loss: 10.820, speed: 2.60, accuracy: 49.34 %\n",
            "[1,   180] loss: 10.365, speed: 2.62, accuracy: 50.16 %\n",
            "[1,   190] loss: 10.477, speed: 2.63, accuracy: 51.03 %\n",
            "[1,   200] loss: 10.145, speed: 2.63, accuracy: 51.60 %\n",
            "[1,   210] loss: 10.909, speed: 2.63, accuracy: 52.03 %\n",
            "[1,   220] loss: 10.270, speed: 2.65, accuracy: 52.50 %\n",
            "[1,   230] loss: 11.157, speed: 2.66, accuracy: 53.04 %\n",
            "[1,   240] loss: 10.459, speed: 2.65, accuracy: 53.45 %\n",
            "[1,   250] loss: 10.012, speed: 2.66, accuracy: 53.91 %\n",
            "[1,   260] loss: 10.021, speed: 2.67, accuracy: 54.35 %\n",
            "[1,   270] loss: 9.536, speed: 2.68, accuracy: 54.64 %\n",
            "[1,   280] loss: 9.957, speed: 2.67, accuracy: 54.98 %\n",
            "[1,   290] loss: 9.523, speed: 2.68, accuracy: 55.30 %\n",
            "[1,   300] loss: 9.464, speed: 2.69, accuracy: 55.71 %\n",
            "[1,   310] loss: 9.257, speed: 2.69, accuracy: 56.11 %\n",
            "[1,   320] loss: 9.171, speed: 2.68, accuracy: 56.36 %\n",
            "[1,   330] loss: 9.098, speed: 2.69, accuracy: 56.65 %\n",
            "[1,   340] loss: 9.433, speed: 2.70, accuracy: 56.96 %\n",
            "[1,   350] loss: 9.276, speed: 2.70, accuracy: 57.25 %\n",
            "[1,   360] loss: 8.471, speed: 2.69, accuracy: 57.62 %\n",
            "[1,   370] loss: 8.554, speed: 2.70, accuracy: 57.94 %\n",
            "[1,   380] loss: 9.007, speed: 2.71, accuracy: 58.19 %\n",
            "[1,   390] loss: 8.464, speed: 2.70, accuracy: 58.41 %\n",
            "[1,   400] loss: 9.956, speed: 2.70, accuracy: 58.49 %\n",
            "[1,   410] loss: 8.177, speed: 2.71, accuracy: 58.77 %\n",
            "[1,   420] loss: 8.590, speed: 2.72, accuracy: 59.06 %\n",
            "[1,   430] loss: 7.863, speed: 2.71, accuracy: 59.34 %\n",
            "[1,   440] loss: 8.022, speed: 2.71, accuracy: 59.59 %\n",
            "[1,   450] loss: 8.773, speed: 2.72, accuracy: 59.81 %\n",
            "[1,   460] loss: 8.506, speed: 2.72, accuracy: 60.03 %\n",
            "[1,   470] loss: 8.964, speed: 2.71, accuracy: 60.19 %\n",
            "[1,   480] loss: 9.305, speed: 2.72, accuracy: 60.32 %\n",
            "[1,   490] loss: 7.927, speed: 2.72, accuracy: 60.58 %\n",
            "[1,   500] loss: 8.169, speed: 2.72, accuracy: 60.81 %\n",
            "[1,   510] loss: 7.911, speed: 2.72, accuracy: 61.03 %\n",
            "[1,   520] loss: 7.722, speed: 2.73, accuracy: 61.22 %\n",
            "[1,   530] loss: 8.650, speed: 2.73, accuracy: 61.34 %\n",
            "[1,   540] loss: 8.158, speed: 2.72, accuracy: 61.53 %\n",
            "[1,   550] loss: 8.827, speed: 2.73, accuracy: 61.62 %\n",
            "[1,   560] loss: 8.146, speed: 2.73, accuracy: 61.73 %\n",
            "[1,   570] loss: 8.513, speed: 2.74, accuracy: 61.88 %\n",
            "[1,   580] loss: 8.417, speed: 2.73, accuracy: 62.02 %\n",
            "[1,   590] loss: 8.172, speed: 2.73, accuracy: 62.16 %\n",
            "[1,   600] loss: 7.586, speed: 2.73, accuracy: 62.36 %\n",
            "[1,   610] loss: 8.727, speed: 2.73, accuracy: 62.53 %\n",
            "[1,   620] loss: 7.869, speed: 2.73, accuracy: 62.66 %\n",
            "[1,   630] loss: 7.739, speed: 2.73, accuracy: 62.82 %\n",
            "[1,   640] loss: 7.166, speed: 2.74, accuracy: 63.00 %\n",
            "[1,   650] loss: 6.590, speed: 2.73, accuracy: 63.18 %\n",
            "[1,   660] loss: 8.509, speed: 2.73, accuracy: 63.24 %\n",
            "[1,   670] loss: 7.252, speed: 2.73, accuracy: 63.42 %\n"
          ]
        },
        {
          "output_type": "error",
          "ename": "KeyboardInterrupt",
          "evalue": "ignored",
          "traceback": [
            "\u001b[0;31m---------------------------------------------------------------------------\u001b[0m",
            "\u001b[0;31mKeyboardInterrupt\u001b[0m                         Traceback (most recent call last)",
            "\u001b[0;32m<ipython-input-10-26a2dccf4db6>\u001b[0m in \u001b[0;36m<cell line: 1>\u001b[0;34m()\u001b[0m\n\u001b[0;32m----> 1\u001b[0;31m \u001b[0mtrain_model\u001b[0m\u001b[0;34m(\u001b[0m\u001b[0mtrain_loader\u001b[0m\u001b[0;34m,\u001b[0m \u001b[0mtest_loader\u001b[0m\u001b[0;34m,\u001b[0m \u001b[0mnet\u001b[0m\u001b[0;34m,\u001b[0m \u001b[0mepochs\u001b[0m \u001b[0;34m=\u001b[0m \u001b[0;36m1\u001b[0m\u001b[0;34m)\u001b[0m\u001b[0;34m\u001b[0m\u001b[0;34m\u001b[0m\u001b[0m\n\u001b[0m",
            "\u001b[0;32m<ipython-input-9-b495c325c44c>\u001b[0m in \u001b[0;36mtrain_model\u001b[0;34m(loader, test_loader, model, epochs)\u001b[0m\n\u001b[1;32m     22\u001b[0m             \u001b[0moutputs\u001b[0m \u001b[0;34m=\u001b[0m \u001b[0mmodel\u001b[0m\u001b[0;34m(\u001b[0m\u001b[0minputs\u001b[0m\u001b[0;34m.\u001b[0m\u001b[0mfloat\u001b[0m\u001b[0;34m(\u001b[0m\u001b[0;34m)\u001b[0m\u001b[0;34m)\u001b[0m\u001b[0;34m\u001b[0m\u001b[0;34m\u001b[0m\u001b[0m\n\u001b[1;32m     23\u001b[0m             \u001b[0mloss\u001b[0m \u001b[0;34m=\u001b[0m \u001b[0mcriterion\u001b[0m\u001b[0;34m(\u001b[0m\u001b[0moutputs\u001b[0m\u001b[0;34m,\u001b[0m \u001b[0mlabels\u001b[0m\u001b[0;34m)\u001b[0m\u001b[0;34m\u001b[0m\u001b[0;34m\u001b[0m\u001b[0m\n\u001b[0;32m---> 24\u001b[0;31m             \u001b[0mloss\u001b[0m\u001b[0;34m.\u001b[0m\u001b[0mbackward\u001b[0m\u001b[0;34m(\u001b[0m\u001b[0;34m)\u001b[0m\u001b[0;34m\u001b[0m\u001b[0;34m\u001b[0m\u001b[0m\n\u001b[0m\u001b[1;32m     25\u001b[0m             \u001b[0moptimizer\u001b[0m\u001b[0;34m.\u001b[0m\u001b[0mstep\u001b[0m\u001b[0;34m(\u001b[0m\u001b[0;34m)\u001b[0m\u001b[0;34m\u001b[0m\u001b[0;34m\u001b[0m\u001b[0m\n\u001b[1;32m     26\u001b[0m \u001b[0;34m\u001b[0m\u001b[0m\n",
            "\u001b[0;32m/usr/local/lib/python3.10/dist-packages/torch/_tensor.py\u001b[0m in \u001b[0;36mbackward\u001b[0;34m(self, gradient, retain_graph, create_graph, inputs)\u001b[0m\n\u001b[1;32m    485\u001b[0m                 \u001b[0minputs\u001b[0m\u001b[0;34m=\u001b[0m\u001b[0minputs\u001b[0m\u001b[0;34m,\u001b[0m\u001b[0;34m\u001b[0m\u001b[0;34m\u001b[0m\u001b[0m\n\u001b[1;32m    486\u001b[0m             )\n\u001b[0;32m--> 487\u001b[0;31m         torch.autograd.backward(\n\u001b[0m\u001b[1;32m    488\u001b[0m             \u001b[0mself\u001b[0m\u001b[0;34m,\u001b[0m \u001b[0mgradient\u001b[0m\u001b[0;34m,\u001b[0m \u001b[0mretain_graph\u001b[0m\u001b[0;34m,\u001b[0m \u001b[0mcreate_graph\u001b[0m\u001b[0;34m,\u001b[0m \u001b[0minputs\u001b[0m\u001b[0;34m=\u001b[0m\u001b[0minputs\u001b[0m\u001b[0;34m\u001b[0m\u001b[0;34m\u001b[0m\u001b[0m\n\u001b[1;32m    489\u001b[0m         )\n",
            "\u001b[0;32m/usr/local/lib/python3.10/dist-packages/torch/autograd/__init__.py\u001b[0m in \u001b[0;36mbackward\u001b[0;34m(tensors, grad_tensors, retain_graph, create_graph, grad_variables, inputs)\u001b[0m\n\u001b[1;32m    198\u001b[0m     \u001b[0;31m# some Python versions print out the first line of a multi-line function\u001b[0m\u001b[0;34m\u001b[0m\u001b[0;34m\u001b[0m\u001b[0m\n\u001b[1;32m    199\u001b[0m     \u001b[0;31m# calls in the traceback and some print out the last line\u001b[0m\u001b[0;34m\u001b[0m\u001b[0;34m\u001b[0m\u001b[0m\n\u001b[0;32m--> 200\u001b[0;31m     Variable._execution_engine.run_backward(  # Calls into the C++ engine to run the backward pass\n\u001b[0m\u001b[1;32m    201\u001b[0m         \u001b[0mtensors\u001b[0m\u001b[0;34m,\u001b[0m \u001b[0mgrad_tensors_\u001b[0m\u001b[0;34m,\u001b[0m \u001b[0mretain_graph\u001b[0m\u001b[0;34m,\u001b[0m \u001b[0mcreate_graph\u001b[0m\u001b[0;34m,\u001b[0m \u001b[0minputs\u001b[0m\u001b[0;34m,\u001b[0m\u001b[0;34m\u001b[0m\u001b[0;34m\u001b[0m\u001b[0m\n\u001b[1;32m    202\u001b[0m         allow_unreachable=True, accumulate_grad=True)  # Calls into the C++ engine to run the backward pass\n",
            "\u001b[0;31mKeyboardInterrupt\u001b[0m: "
          ]
        }
      ]
    },
    {
      "cell_type": "markdown",
      "metadata": {
        "id": "79QnkE-UUySP"
      },
      "source": [
        "Congrats! You successfully trained an image classification model while streaming data directly from the cloud! 🎉"
      ]
    }
  ]
}