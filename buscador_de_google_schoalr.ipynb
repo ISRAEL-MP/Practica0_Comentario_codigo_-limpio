{
  "nbformat": 4,
  "nbformat_minor": 0,
  "metadata": {
    "colab": {
      "provenance": [],
      "include_colab_link": true
    },
    "kernelspec": {
      "name": "python3",
      "display_name": "Python 3"
    }
  },
  "cells": [
    {
      "cell_type": "markdown",
      "metadata": {
        "id": "view-in-github",
        "colab_type": "text"
      },
      "source": [
        "<a href=\"https://colab.research.google.com/github/ISRAEL-MP/Practica0_Comentario_codigo_-limpio/blob/main/buscador_de_google_schoalr.ipynb\" target=\"_parent\"><img src=\"https://colab.research.google.com/assets/colab-badge.svg\" alt=\"Open In Colab\"/></a>"
      ]
    },
    {
      "cell_type": "markdown",
      "metadata": {
        "id": "M36VFanosbkb"
      },
      "source": [
        "## Try `sortgs.py` on Google Colab\n",
        "This is a jupyter envirnment where you can try the code of the repository without installing anything. The only limitation is the robot checking problem which would require selenium and manual solution of the captchas, but for trying a few keywords, it should work!\n",
        "\n",
        "> **INSTRUCTIONS:** If this is the first time you are using a jupyter environment, you simply have to run the code blocks using the keyword `SHIFT` + `ENTER`. Make sure to update the keyword parameters when required.\n",
        "\n",
        "First, let's clone the repository:"
      ]
    },
    {
      "cell_type": "code",
      "metadata": {
        "id": "oPot8aWcsfei",
        "colab": {
          "base_uri": "https://localhost:8080/"
        },
        "outputId": "2992ae26-f29d-457b-e2de-a6ef3c7a2cb6"
      },
      "source": [
        "!git clone https://github.com/WittmannF/sort-google-scholar.git"
      ],
      "execution_count": null,
      "outputs": [
        {
          "output_type": "stream",
          "name": "stdout",
          "text": [
            "Cloning into 'sort-google-scholar'...\n",
            "remote: Enumerating objects: 247, done.\u001b[K\n",
            "remote: Counting objects: 100% (15/15), done.\u001b[K\n",
            "remote: Compressing objects: 100% (14/14), done.\u001b[K\n",
            "remote: Total 247 (delta 4), reused 7 (delta 1), pack-reused 232\u001b[K\n",
            "Receiving objects: 100% (247/247), 140.53 KiB | 7.81 MiB/s, done.\n",
            "Resolving deltas: 100% (110/110), done.\n"
          ]
        }
      ]
    },
    {
      "cell_type": "markdown",
      "metadata": {
        "id": "pM5XMRmVspR7"
      },
      "source": [
        "Now, let's open the folder from the cloned repository:"
      ]
    },
    {
      "cell_type": "code",
      "metadata": {
        "id": "LQ0mCxVNrlCB",
        "colab": {
          "base_uri": "https://localhost:8080/"
        },
        "outputId": "8c255ab0-6064-4e3c-8360-159e0fecd3f3"
      },
      "source": [
        "cd sort-google-scholar/"
      ],
      "execution_count": null,
      "outputs": [
        {
          "output_type": "stream",
          "name": "stdout",
          "text": [
            "/content/sort-google-scholar\n"
          ]
        }
      ]
    },
    {
      "cell_type": "markdown",
      "metadata": {
        "id": "KALGyCEJsvTL"
      },
      "source": [
        "Next, let's run the code. Make sure to change \"deep learning\" to the keyword that you would like to have it ranked."
      ]
    },
    {
      "cell_type": "code",
      "metadata": {
        "id": "dohZcNUmrost",
        "colab": {
          "base_uri": "https://localhost:8080/"
        },
        "outputId": "841b34d4-fe27-4dfa-e3c8-8f2e0f5df5dd"
      },
      "source": [
        "# Change 'deep learning' with the keyword that you would like to check\n",
        "!python sortgs.py --kw \"ventilation mine\" --sortby \"cit/year/summarize\""
      ],
      "execution_count": null,
      "outputs": [
        {
          "output_type": "stream",
          "name": "stdout",
          "text": [
            "Loading next 10 results\n",
            "Loading next 20 results\n",
            "Loading next 30 results\n",
            "Loading next 40 results\n",
            "Loading next 50 results\n",
            "Loading next 60 results\n",
            "Loading next 70 results\n",
            "Loading next 80 results\n",
            "Loading next 90 results\n",
            "Loading next 100 results\n",
            "Column name to be sorted not found. Sorting by the number of citations...\n",
            "'cit/year/summarize'\n",
            "                                          Author  ... cit/year\n",
            "Rank                                              ...         \n",
            "51                                     McPherson  ...       74\n",
            "1      Hartman, JM Mutmansky, RV Ramani, YJ Wang  ...       55\n",
            "92           Toraño, S Torno, M Menéndez, M Gent  ...       21\n",
            "18                                   Su, J Agnew  ...       12\n",
            "2                   Karakurt, G Aydin, K Aydiner  ...       16\n",
            "...                                          ...  ...      ...\n",
            "23                      Yi, M Kim, D Lee, J Park  ...        2\n",
            "96       Maulenov, A Joldasbayeva, A O'telbayev…  ...        5\n",
            "91                                  Joldasbayeva  ...        4\n",
            "65     Li, Y Li, J Zhang, B Li, Z Zhang, J Dong…  ...        2\n",
            "67                            Liu, J Liu, Q Zhou  ...        0\n",
            "\n",
            "[100 rows x 8 columns]\n"
          ]
        }
      ]
    },
    {
      "cell_type": "markdown",
      "metadata": {
        "id": "s_nuxpy_s_9c"
      },
      "source": [
        "> _**NOTE:** It is normal to get some warnings, for example year not found or author not found. However, if you get the robot checking warning, then it might not work anymore in the IP that you have on Google Colab. You can try going in 'Runtime' > 'Disconnect and delete runtime' to get a new IP. If the problem persists, then you will have to run locally using selenium and solve the captchas manually. Make sure to avoid running this code too often to avoid the robot checking problem._\n",
        "\n",
        "Next, you will see that a csv file with the name of the keyword was created (which is `deep_learning.csv` in my case)."
      ]
    },
    {
      "cell_type": "code",
      "metadata": {
        "id": "94792EoBrrBU",
        "colab": {
          "base_uri": "https://localhost:8080/"
        },
        "outputId": "aa9e8366-1ca5-4ee0-cc91-1dbc00875d04"
      },
      "source": [
        "ls"
      ],
      "execution_count": null,
      "outputs": [
        {
          "output_type": "stream",
          "name": "stdout",
          "text": [
            "deep_learning.csv  requirements.txt         \u001b[0m\u001b[01;34mtest\u001b[0m/\n",
            "\u001b[01;34mexamples\u001b[0m/          \u001b[01;34msort-google-scholar-V1\u001b[0m/  Test_sortgs_py_on_Colab.ipynb\n",
            "README.md          \u001b[01;32msortgs.py\u001b[0m*               ventilation_mine.csv\n"
          ]
        }
      ]
    },
    {
      "cell_type": "markdown",
      "metadata": {
        "id": "QQIb9oYou9GM"
      },
      "source": [
        "Let's import this file to visualize some results (make sure to change `deep_learning.csv` to the file name that was created in your case):"
      ]
    },
    {
      "cell_type": "code",
      "metadata": {
        "id": "NVoHI4zTr5pB"
      },
      "source": [
        "import pandas as pd\n",
        "df = pd.read_csv('ventilation_mine.csv') # OBS: Update the file name"
      ],
      "execution_count": null,
      "outputs": []
    },
    {
      "cell_type": "code",
      "metadata": {
        "id": "S1NzeUq0sOu-",
        "colab": {
          "base_uri": "https://localhost:8080/",
          "height": 667
        },
        "outputId": "7a267d74-a3a8-41a1-e31a-47c10f766d2a"
      },
      "source": [
        "df.head(10)"
      ],
      "execution_count": null,
      "outputs": [
        {
          "output_type": "execute_result",
          "data": {
            "text/plain": [
              "   Rank                                      Author  \\\n",
              "0    51                                   McPherson   \n",
              "1     1   Hartman, JM Mutmansky, RV Ramani, YJ Wang   \n",
              "2    92         Toraño, S Torno, M Menéndez, M Gent   \n",
              "3    18                                 Su, J Agnew   \n",
              "4     2                Karakurt, G Aydin, K Aydiner   \n",
              "5    20   Parra, JM Villafruela, F Castro, C Mendez   \n",
              "6    84        Toraño, S Torno, M Menendez, M Gent…   \n",
              "7    56               Sasmito, E Birgersson, HC Ly…   \n",
              "8    12                 Su, H Chen, P Teakle, S Xue   \n",
              "9    15                  Chatterjee, L Zhang, X Xia   \n",
              "\n",
              "                                               Title  Citations  Year  \\\n",
              "0  Subsurface ventilation and environmental engin...        885  2012   \n",
              "1              Mine ventilation and air conditioning        655  2012   \n",
              "2  Auxiliary ventilation in mining roadways drive...        274  2011   \n",
              "3  Catalytic combustion of coal mine ventilation ...        215  2006   \n",
              "4  Mine ventilation air methane as a sustainable ...        205  2011   \n",
              "5  Numerical and experimental analysis of differe...        203  2006   \n",
              "6  Models of methane behaviour in auxiliary venti...        170  2009   \n",
              "7  Some approaches to improve ventilation system ...        155  2013   \n",
              "8  Characteristics of coal mine ventilation air f...        140  2008   \n",
              "9  Optimization of mine ventilation fan speeds ac...        119  2015   \n",
              "\n",
              "           Publisher                                 Venue  \\\n",
              "0   books.google.com                                   NaN   \n",
              "1   books.google.com                                   NaN   \n",
              "2           Elsevier          Tunnelling and Underground …   \n",
              "3           Elsevier                                  Fuel   \n",
              "4           Elsevier    Renewable and Sustainable Energy …   \n",
              "5           Elsevier              Building and Environment   \n",
              "6           Elsevier            International Journal of …   \n",
              "7           Elsevier             … and Underground Space …   \n",
              "8           Elsevier   Journal of environmental management   \n",
              "9           Elsevier                        Applied Energy   \n",
              "\n",
              "                                              Source  cit/year  \n",
              "0  https://books.google.com/books?hl=en&lr=&id=mp...        74  \n",
              "1  https://books.google.com/books?hl=en&lr=&id=xP...        55  \n",
              "2  https://www.sciencedirect.com/science/article/...        21  \n",
              "3  https://www.sciencedirect.com/science/article/...        12  \n",
              "4  https://www.sciencedirect.com/science/article/...        16  \n",
              "5  https://www.sciencedirect.com/science/article/...        11  \n",
              "6  https://www.sciencedirect.com/science/article/...        11  \n",
              "7  https://www.sciencedirect.com/science/article/...        14  \n",
              "8  https://www.sciencedirect.com/science/article/...         9  \n",
              "9  https://www.sciencedirect.com/science/article/...        13  "
            ],
            "text/html": [
              "\n",
              "  <div id=\"df-cd49f040-e0b6-4235-9cba-b71ef9935038\">\n",
              "    <div class=\"colab-df-container\">\n",
              "      <div>\n",
              "<style scoped>\n",
              "    .dataframe tbody tr th:only-of-type {\n",
              "        vertical-align: middle;\n",
              "    }\n",
              "\n",
              "    .dataframe tbody tr th {\n",
              "        vertical-align: top;\n",
              "    }\n",
              "\n",
              "    .dataframe thead th {\n",
              "        text-align: right;\n",
              "    }\n",
              "</style>\n",
              "<table border=\"1\" class=\"dataframe\">\n",
              "  <thead>\n",
              "    <tr style=\"text-align: right;\">\n",
              "      <th></th>\n",
              "      <th>Rank</th>\n",
              "      <th>Author</th>\n",
              "      <th>Title</th>\n",
              "      <th>Citations</th>\n",
              "      <th>Year</th>\n",
              "      <th>Publisher</th>\n",
              "      <th>Venue</th>\n",
              "      <th>Source</th>\n",
              "      <th>cit/year</th>\n",
              "    </tr>\n",
              "  </thead>\n",
              "  <tbody>\n",
              "    <tr>\n",
              "      <th>0</th>\n",
              "      <td>51</td>\n",
              "      <td>McPherson</td>\n",
              "      <td>Subsurface ventilation and environmental engin...</td>\n",
              "      <td>885</td>\n",
              "      <td>2012</td>\n",
              "      <td>books.google.com</td>\n",
              "      <td>NaN</td>\n",
              "      <td>https://books.google.com/books?hl=en&amp;lr=&amp;id=mp...</td>\n",
              "      <td>74</td>\n",
              "    </tr>\n",
              "    <tr>\n",
              "      <th>1</th>\n",
              "      <td>1</td>\n",
              "      <td>Hartman, JM Mutmansky, RV Ramani, YJ Wang</td>\n",
              "      <td>Mine ventilation and air conditioning</td>\n",
              "      <td>655</td>\n",
              "      <td>2012</td>\n",
              "      <td>books.google.com</td>\n",
              "      <td>NaN</td>\n",
              "      <td>https://books.google.com/books?hl=en&amp;lr=&amp;id=xP...</td>\n",
              "      <td>55</td>\n",
              "    </tr>\n",
              "    <tr>\n",
              "      <th>2</th>\n",
              "      <td>92</td>\n",
              "      <td>Toraño, S Torno, M Menéndez, M Gent</td>\n",
              "      <td>Auxiliary ventilation in mining roadways drive...</td>\n",
              "      <td>274</td>\n",
              "      <td>2011</td>\n",
              "      <td>Elsevier</td>\n",
              "      <td>Tunnelling and Underground …</td>\n",
              "      <td>https://www.sciencedirect.com/science/article/...</td>\n",
              "      <td>21</td>\n",
              "    </tr>\n",
              "    <tr>\n",
              "      <th>3</th>\n",
              "      <td>18</td>\n",
              "      <td>Su, J Agnew</td>\n",
              "      <td>Catalytic combustion of coal mine ventilation ...</td>\n",
              "      <td>215</td>\n",
              "      <td>2006</td>\n",
              "      <td>Elsevier</td>\n",
              "      <td>Fuel</td>\n",
              "      <td>https://www.sciencedirect.com/science/article/...</td>\n",
              "      <td>12</td>\n",
              "    </tr>\n",
              "    <tr>\n",
              "      <th>4</th>\n",
              "      <td>2</td>\n",
              "      <td>Karakurt, G Aydin, K Aydiner</td>\n",
              "      <td>Mine ventilation air methane as a sustainable ...</td>\n",
              "      <td>205</td>\n",
              "      <td>2011</td>\n",
              "      <td>Elsevier</td>\n",
              "      <td>Renewable and Sustainable Energy …</td>\n",
              "      <td>https://www.sciencedirect.com/science/article/...</td>\n",
              "      <td>16</td>\n",
              "    </tr>\n",
              "    <tr>\n",
              "      <th>5</th>\n",
              "      <td>20</td>\n",
              "      <td>Parra, JM Villafruela, F Castro, C Mendez</td>\n",
              "      <td>Numerical and experimental analysis of differe...</td>\n",
              "      <td>203</td>\n",
              "      <td>2006</td>\n",
              "      <td>Elsevier</td>\n",
              "      <td>Building and Environment</td>\n",
              "      <td>https://www.sciencedirect.com/science/article/...</td>\n",
              "      <td>11</td>\n",
              "    </tr>\n",
              "    <tr>\n",
              "      <th>6</th>\n",
              "      <td>84</td>\n",
              "      <td>Toraño, S Torno, M Menendez, M Gent…</td>\n",
              "      <td>Models of methane behaviour in auxiliary venti...</td>\n",
              "      <td>170</td>\n",
              "      <td>2009</td>\n",
              "      <td>Elsevier</td>\n",
              "      <td>International Journal of …</td>\n",
              "      <td>https://www.sciencedirect.com/science/article/...</td>\n",
              "      <td>11</td>\n",
              "    </tr>\n",
              "    <tr>\n",
              "      <th>7</th>\n",
              "      <td>56</td>\n",
              "      <td>Sasmito, E Birgersson, HC Ly…</td>\n",
              "      <td>Some approaches to improve ventilation system ...</td>\n",
              "      <td>155</td>\n",
              "      <td>2013</td>\n",
              "      <td>Elsevier</td>\n",
              "      <td>… and Underground Space …</td>\n",
              "      <td>https://www.sciencedirect.com/science/article/...</td>\n",
              "      <td>14</td>\n",
              "    </tr>\n",
              "    <tr>\n",
              "      <th>8</th>\n",
              "      <td>12</td>\n",
              "      <td>Su, H Chen, P Teakle, S Xue</td>\n",
              "      <td>Characteristics of coal mine ventilation air f...</td>\n",
              "      <td>140</td>\n",
              "      <td>2008</td>\n",
              "      <td>Elsevier</td>\n",
              "      <td>Journal of environmental management</td>\n",
              "      <td>https://www.sciencedirect.com/science/article/...</td>\n",
              "      <td>9</td>\n",
              "    </tr>\n",
              "    <tr>\n",
              "      <th>9</th>\n",
              "      <td>15</td>\n",
              "      <td>Chatterjee, L Zhang, X Xia</td>\n",
              "      <td>Optimization of mine ventilation fan speeds ac...</td>\n",
              "      <td>119</td>\n",
              "      <td>2015</td>\n",
              "      <td>Elsevier</td>\n",
              "      <td>Applied Energy</td>\n",
              "      <td>https://www.sciencedirect.com/science/article/...</td>\n",
              "      <td>13</td>\n",
              "    </tr>\n",
              "  </tbody>\n",
              "</table>\n",
              "</div>\n",
              "      <button class=\"colab-df-convert\" onclick=\"convertToInteractive('df-cd49f040-e0b6-4235-9cba-b71ef9935038')\"\n",
              "              title=\"Convert this dataframe to an interactive table.\"\n",
              "              style=\"display:none;\">\n",
              "        \n",
              "  <svg xmlns=\"http://www.w3.org/2000/svg\" height=\"24px\"viewBox=\"0 0 24 24\"\n",
              "       width=\"24px\">\n",
              "    <path d=\"M0 0h24v24H0V0z\" fill=\"none\"/>\n",
              "    <path d=\"M18.56 5.44l.94 2.06.94-2.06 2.06-.94-2.06-.94-.94-2.06-.94 2.06-2.06.94zm-11 1L8.5 8.5l.94-2.06 2.06-.94-2.06-.94L8.5 2.5l-.94 2.06-2.06.94zm10 10l.94 2.06.94-2.06 2.06-.94-2.06-.94-.94-2.06-.94 2.06-2.06.94z\"/><path d=\"M17.41 7.96l-1.37-1.37c-.4-.4-.92-.59-1.43-.59-.52 0-1.04.2-1.43.59L10.3 9.45l-7.72 7.72c-.78.78-.78 2.05 0 2.83L4 21.41c.39.39.9.59 1.41.59.51 0 1.02-.2 1.41-.59l7.78-7.78 2.81-2.81c.8-.78.8-2.07 0-2.86zM5.41 20L4 18.59l7.72-7.72 1.47 1.35L5.41 20z\"/>\n",
              "  </svg>\n",
              "      </button>\n",
              "      \n",
              "  <style>\n",
              "    .colab-df-container {\n",
              "      display:flex;\n",
              "      flex-wrap:wrap;\n",
              "      gap: 12px;\n",
              "    }\n",
              "\n",
              "    .colab-df-convert {\n",
              "      background-color: #E8F0FE;\n",
              "      border: none;\n",
              "      border-radius: 50%;\n",
              "      cursor: pointer;\n",
              "      display: none;\n",
              "      fill: #1967D2;\n",
              "      height: 32px;\n",
              "      padding: 0 0 0 0;\n",
              "      width: 32px;\n",
              "    }\n",
              "\n",
              "    .colab-df-convert:hover {\n",
              "      background-color: #E2EBFA;\n",
              "      box-shadow: 0px 1px 2px rgba(60, 64, 67, 0.3), 0px 1px 3px 1px rgba(60, 64, 67, 0.15);\n",
              "      fill: #174EA6;\n",
              "    }\n",
              "\n",
              "    [theme=dark] .colab-df-convert {\n",
              "      background-color: #3B4455;\n",
              "      fill: #D2E3FC;\n",
              "    }\n",
              "\n",
              "    [theme=dark] .colab-df-convert:hover {\n",
              "      background-color: #434B5C;\n",
              "      box-shadow: 0px 1px 3px 1px rgba(0, 0, 0, 0.15);\n",
              "      filter: drop-shadow(0px 1px 2px rgba(0, 0, 0, 0.3));\n",
              "      fill: #FFFFFF;\n",
              "    }\n",
              "  </style>\n",
              "\n",
              "      <script>\n",
              "        const buttonEl =\n",
              "          document.querySelector('#df-cd49f040-e0b6-4235-9cba-b71ef9935038 button.colab-df-convert');\n",
              "        buttonEl.style.display =\n",
              "          google.colab.kernel.accessAllowed ? 'block' : 'none';\n",
              "\n",
              "        async function convertToInteractive(key) {\n",
              "          const element = document.querySelector('#df-cd49f040-e0b6-4235-9cba-b71ef9935038');\n",
              "          const dataTable =\n",
              "            await google.colab.kernel.invokeFunction('convertToInteractive',\n",
              "                                                     [key], {});\n",
              "          if (!dataTable) return;\n",
              "\n",
              "          const docLinkHtml = 'Like what you see? Visit the ' +\n",
              "            '<a target=\"_blank\" href=https://colab.research.google.com/notebooks/data_table.ipynb>data table notebook</a>'\n",
              "            + ' to learn more about interactive tables.';\n",
              "          element.innerHTML = '';\n",
              "          dataTable['output_type'] = 'display_data';\n",
              "          await google.colab.output.renderOutput(dataTable, element);\n",
              "          const docLink = document.createElement('div');\n",
              "          docLink.innerHTML = docLinkHtml;\n",
              "          element.appendChild(docLink);\n",
              "        }\n",
              "      </script>\n",
              "    </div>\n",
              "  </div>\n",
              "  "
            ]
          },
          "metadata": {},
          "execution_count": 22
        }
      ]
    },
    {
      "cell_type": "markdown",
      "metadata": {
        "id": "t7ZCDWaksZxj"
      },
      "source": [
        "Above we have the top 10 papers of deep learning ranked by citations per year. It is incredible that some papers are very far away from the original rank. For example, the fourth most cited paper per year is originally the number 41 in the original rank of Google!"
      ]
    },
    {
      "cell_type": "markdown",
      "metadata": {
        "id": "-xx5GEHuybPd"
      },
      "source": [
        "Finally, let's download the CSV results (make sure to update the CSV name here as well):"
      ]
    },
    {
      "cell_type": "code",
      "metadata": {
        "id": "Svc1GCM2yaLP",
        "colab": {
          "base_uri": "https://localhost:8080/",
          "height": 17
        },
        "outputId": "ed4f3fcf-2617-410f-e4d6-f68d7675fb28"
      },
      "source": [
        "from google.colab import files\n",
        "files.download('deep_learning.csv') # Update the file name here"
      ],
      "execution_count": null,
      "outputs": [
        {
          "output_type": "display_data",
          "data": {
            "text/plain": [
              "<IPython.core.display.Javascript object>"
            ],
            "application/javascript": [
              "\n",
              "    async function download(id, filename, size) {\n",
              "      if (!google.colab.kernel.accessAllowed) {\n",
              "        return;\n",
              "      }\n",
              "      const div = document.createElement('div');\n",
              "      const label = document.createElement('label');\n",
              "      label.textContent = `Downloading \"${filename}\": `;\n",
              "      div.appendChild(label);\n",
              "      const progress = document.createElement('progress');\n",
              "      progress.max = size;\n",
              "      div.appendChild(progress);\n",
              "      document.body.appendChild(div);\n",
              "\n",
              "      const buffers = [];\n",
              "      let downloaded = 0;\n",
              "\n",
              "      const channel = await google.colab.kernel.comms.open(id);\n",
              "      // Send a message to notify the kernel that we're ready.\n",
              "      channel.send({})\n",
              "\n",
              "      for await (const message of channel.messages) {\n",
              "        // Send a message to notify the kernel that we're ready.\n",
              "        channel.send({})\n",
              "        if (message.buffers) {\n",
              "          for (const buffer of message.buffers) {\n",
              "            buffers.push(buffer);\n",
              "            downloaded += buffer.byteLength;\n",
              "            progress.value = downloaded;\n",
              "          }\n",
              "        }\n",
              "      }\n",
              "      const blob = new Blob(buffers, {type: 'application/binary'});\n",
              "      const a = document.createElement('a');\n",
              "      a.href = window.URL.createObjectURL(blob);\n",
              "      a.download = filename;\n",
              "      div.appendChild(a);\n",
              "      a.click();\n",
              "      div.remove();\n",
              "    }\n",
              "  "
            ]
          },
          "metadata": {}
        },
        {
          "output_type": "display_data",
          "data": {
            "text/plain": [
              "<IPython.core.display.Javascript object>"
            ],
            "application/javascript": [
              "download(\"download_e6f96743-9245-4b57-a45b-18686db70360\", \"deep_learning.csv\", 19270)"
            ]
          },
          "metadata": {}
        }
      ]
    },
    {
      "cell_type": "markdown",
      "metadata": {
        "id": "09OFwDdM2K5h"
      },
      "source": [
        "OBS: If you get an error running the previous line, you can download the file manually by clicking in the left pane icon (below the `+ Code` button), then click in files, expand the `sort-google-scholar` folder, right click and download in the csv file:\n",
        "\n",
        "![](https://i.stack.imgur.com/KKJXFm.png)"
      ]
    },
    {
      "cell_type": "code",
      "metadata": {
        "id": "pM_Bb4MH14eI"
      },
      "source": [],
      "execution_count": null,
      "outputs": []
    }
  ]
}